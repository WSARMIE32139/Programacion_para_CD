{
  "nbformat": 4,
  "nbformat_minor": 0,
  "metadata": {
    "colab": {
      "provenance": [],
      "include_colab_link": true
    },
    "kernelspec": {
      "name": "python3",
      "display_name": "Python 3"
    },
    "language_info": {
      "name": "python"
    }
  },
  "cells": [
    {
      "cell_type": "markdown",
      "metadata": {
        "id": "view-in-github",
        "colab_type": "text"
      },
      "source": [
        "<a href=\"https://colab.research.google.com/github/WSARMIE32139/Programacion_para_CD/blob/main/analisis-churn-telecom/Guia_2.ipynb\" target=\"_parent\"><img src=\"https://colab.research.google.com/assets/colab-badge.svg\" alt=\"Open In Colab\"/></a>"
      ]
    },
    {
      "cell_type": "markdown",
      "source": [
        "# **Guía 2**\n",
        "\n",
        "Objetivo: aplicar los conceptos de Pandas en la manipulación y análisis de datos estructurados. Se trabajará con Series y DataFrames, aplicando técnicas de acceso, selección, filtrado y agregación de datos.\n",
        "\n",
        "### **Caso de Negocio: Análisis de Deserción de Clientes en una Empresa de Telecomunicaciones**\n",
        "\n",
        "**Contexto**\n",
        "\n",
        "En la industria de las telecomunicaciones, la retención de clientes es un factor crítico para la sostenibilidad del negocio. La competencia es feroz y adquirir nuevos clientes suele ser más costoso que mantener a los actuales. En este análisis, exploraremos un conjunto de datos que contiene información detallada sobre clientes que han abandonado el servicio (churn) y aquellos que permanecen activos.\n",
        "\n",
        "Nuestro objetivo es identificar los factores clave que influyen en la deserción, comprender patrones de comportamiento y generar estrategias efectivas para reducir la tasa de abandono.\n",
        "\n",
        "La empresa ha experimentado un aumento en la tasa de deserción de clientes, lo que ha provocado:\n",
        "- Pérdida de ingresos recurrentes.\n",
        "- Incremento en los costos de adquisición de nuevos clientes.\n",
        "- Menor estabilidad en la base de clientes a largo plazo.\n",
        "\n",
        "Para abordar esta problemática, es crucial identificar las razones detrás de la deserción y desarrollar estrategias para mejorar la retención de clientes.\n",
        "\n"
      ],
      "metadata": {
        "id": "sVxeQki8vRXz"
      }
    },
    {
      "cell_type": "markdown",
      "source": [
        "**Entrega del Trabajo**\n",
        "\n",
        "Los estudiantes deben trabajar en grupos de entre 2 y 4 personas. Cada grupo deberá subir su trabajo a un repositorio de GitHub, asegurándose de que el código y los archivos necesarios estén bien organizados y documentados. Posteriormente, deberán enviar el enlace del repositorio en la plataforma Canvas para su evaluación.\n",
        "\n",
        "Instrucciones para la entrega:\n",
        "\n",
        "Crear un repositorio en GitHub con un nombre descriptivo para el proyecto.\n",
        "\n",
        "Subir el código en Jupyter Notebook (.ipynb) o en formato Python (.py).\n",
        "\n",
        "Incluir un archivo README.md con una breve descripción del trabajo y las instrucciones de ejecución.\n",
        "\n",
        "Compartir el enlace del repositorio en Canvas dentro del plazo establecido.\n",
        "\n"
      ],
      "metadata": {
        "id": "TBsud25XSR0w"
      }
    },
    {
      "cell_type": "markdown",
      "source": [
        "**Descripción de las variables del dataset telecom_churn**\n",
        "\n",
        "El dataset telecom_churn contiene información detallada sobre clientes de una empresa de telecomunicaciones, incluyendo datos generales, planes contratados, uso del servicio telefónico y llamadas al servicio al cliente. Su propósito principal es analizar patrones de deserción de clientes, identificados a través de la variable churn, que indica si un cliente ha abandonado la empresa (1) o sigue siendo cliente (0).\n",
        "\n",
        "Dentro del dataset, encontramos información general como el estado (state) donde reside el cliente, el código de área (area code), y el número de teléfono (phone number), aunque esta última variable no aporta información útil para el análisis, ya que es un identificador único.\n",
        "\n",
        "Además, el dataset registra el tiempo que un cliente ha estado en la empresa a través de la variable account length, lo que puede ayudar a analizar si la duración del contrato influye en la deserción. También se incluyen detalles sobre los planes contratados, como si el cliente tiene un plan internacional (international plan), que le permite realizar llamadas internacionales, o un buzón de voz (voice mail plan), que le permite recibir mensajes de voz.\n",
        "\n",
        "En cuanto al uso del servicio, se registran datos detallados sobre el tiempo en llamadas y los costos asociados. Se divide en tres períodos del día: diurno (total day minutes, total day calls, total day charge), vespertino (total eve minutes, total eve calls, total eve charge) y nocturno (total night minutes, total night calls, total night charge), lo que permite evaluar si hay patrones de consumo que influyen en la deserción. También se incluye información sobre el uso del servicio internacional, con variables como total intl minutes (minutos en llamadas internacionales), total intl calls (cantidad de llamadas internacionales) y total intl charge (costos por llamadas internacionales).\n",
        "\n",
        "Otro aspecto clave del dataset es el número de llamadas al servicio al cliente (customer service calls), ya que una mayor cantidad de llamadas puede indicar insatisfacción y estar relacionada con la decisión del cliente de abandonar la empresa.\n",
        "\n",
        "Finalmente, la variable más importante del análisis es churn, que indica si un cliente ha desertado de la empresa. A partir de esta variable, podemos analizar qué factores influyen en la deserción y encontrar patrones en los clientes que tienen mayor probabilidad de abandonar el servicio.\n"
      ],
      "metadata": {
        "id": "R1eyqBGSScta"
      }
    },
    {
      "cell_type": "markdown",
      "source": [
        "**Exploración y Limpieza de Datos**\n",
        "\n",
        "Cargar y explorar el dataset\n",
        "\n",
        "Importa Pandas y carga el dataset telecom_churn.csv en un DataFrame.\n",
        "\n",
        "Muestra las primeras 5 filas del DataFrame.\n",
        "\n",
        "Verifica cuántas filas y columnas tiene el dataset.\n",
        "\n",
        "Muestra información general del dataset, incluyendo los tipos de datos.\n",
        "\n",
        "Identifica si hay valores nulos en alguna columna."
      ],
      "metadata": {
        "id": "-gqRGJ8yFs5Y"
      }
    },
    {
      "cell_type": "code",
      "source": [
        "#!pip install pandas numpy"
      ],
      "metadata": {
        "colab": {
          "base_uri": "https://localhost:8080/"
        },
        "id": "93sx7XmlDvUK",
        "outputId": "53880a8f-cf41-4dc3-8e0a-4e4b48f0597c"
      },
      "execution_count": 85,
      "outputs": [
        {
          "output_type": "stream",
          "name": "stdout",
          "text": [
            "Requirement already satisfied: pandas in /usr/local/lib/python3.11/dist-packages (2.2.2)\n",
            "Requirement already satisfied: numpy in /usr/local/lib/python3.11/dist-packages (1.26.4)\n",
            "Requirement already satisfied: python-dateutil>=2.8.2 in /usr/local/lib/python3.11/dist-packages (from pandas) (2.8.2)\n",
            "Requirement already satisfied: pytz>=2020.1 in /usr/local/lib/python3.11/dist-packages (from pandas) (2025.1)\n",
            "Requirement already satisfied: tzdata>=2022.7 in /usr/local/lib/python3.11/dist-packages (from pandas) (2025.1)\n",
            "Requirement already satisfied: six>=1.5 in /usr/local/lib/python3.11/dist-packages (from python-dateutil>=2.8.2->pandas) (1.17.0)\n"
          ]
        }
      ]
    },
    {
      "cell_type": "code",
      "execution_count": 86,
      "metadata": {
        "id": "wuoyvrE0vQ09",
        "colab": {
          "base_uri": "https://localhost:8080/"
        },
        "outputId": "ba1ae9c2-abd0-4ea8-e845-e1b146a40658"
      },
      "outputs": [
        {
          "output_type": "stream",
          "name": "stdout",
          "text": [
            "     state  account length  area code phone number international plan voice mail plan  number vmail messages  total day minutes  total day calls  total day charge  total eve minutes  total eve calls  total eve charge  total night minutes  total night calls  total night charge  total intl minutes  total intl calls  total intl charge  customer service calls  churn\n",
            "0       KS             128        415     382-4657                 no             yes                     25              265.1              110             45.07              197.4               99             16.78                244.7                 91               11.01                10.0                 3               2.70                       1  False\n",
            "1       OH             107        415     371-7191                 no             yes                     26              161.6              123             27.47              195.5              103             16.62                254.4                103               11.45                13.7                 3               3.70                       1  False\n",
            "2       NJ             137        415     358-1921                 no              no                      0              243.4              114             41.38              121.2              110             10.30                162.6                104                7.32                12.2                 5               3.29                       0  False\n",
            "3       OH              84        408     375-9999                yes              no                      0              299.4               71             50.90               61.9               88              5.26                196.9                 89                8.86                 6.6                 7               1.78                       2  False\n",
            "4       OK              75        415     330-6626                yes              no                      0              166.7              113             28.34              148.3              122             12.61                186.9                121                8.41                10.1                 3               2.73                       3  False\n",
            "...    ...             ...        ...          ...                ...             ...                    ...                ...              ...               ...                ...              ...               ...                  ...                ...                 ...                 ...               ...                ...                     ...    ...\n",
            "3328    AZ             192        415     414-4276                 no             yes                     36              156.2               77             26.55              215.5              126             18.32                279.1                 83               12.56                 9.9                 6               2.67                       2  False\n",
            "3329    WV              68        415     370-3271                 no              no                      0              231.1               57             39.29              153.4               55             13.04                191.3                123                8.61                 9.6                 4               2.59                       3  False\n",
            "3330    RI              28        510     328-8230                 no              no                      0              180.8              109             30.74              288.8               58             24.55                191.9                 91                8.64                14.1                 6               3.81                       2  False\n",
            "3331    CT             184        510     364-6381                yes              no                      0              213.8              105             36.35              159.6               84             13.57                139.2                137                6.26                 5.0                10               1.35                       2  False\n",
            "3332    TN              74        415     400-4344                 no             yes                     25              234.4              113             39.85              265.9               82             22.60                241.4                 77               10.86                13.7                 4               3.70                       0  False\n",
            "\n",
            "[3333 rows x 21 columns]\n"
          ]
        }
      ],
      "source": [
        "# Solución propuesta\n",
        "# 1. Importa Pandas y carga el dataset telecom_churn.csv en un DataFrame.\n",
        "import pandas as pd\n",
        "\n",
        "df = pd.read_csv('/content/telecom_churn.csv')\n",
        "\n",
        "print(df)"
      ]
    },
    {
      "cell_type": "code",
      "source": [
        "# 2. Muestra las primeras 5 filas del DataFrame.\n",
        "# Cargar el dataset\n",
        "df = pd.read_csv('telecom_churn.csv')\n",
        "\n",
        "# Ajustar el ancho máximo de las columnas para tener una mejor vista del df\n",
        "pd.set_option('display.max_columns', None)  # Muestra todas las columnas\n",
        "pd.set_option('display.width',1000)       # Ajustar el ancho total de la pantalla\n",
        "\n",
        "# Mostramos las primeras 5 filas\n",
        "print(df.head())"
      ],
      "metadata": {
        "colab": {
          "base_uri": "https://localhost:8080/"
        },
        "id": "yH30e802tCJv",
        "outputId": "06e271cd-e0c8-4e6f-f639-421bc21b704e"
      },
      "execution_count": 87,
      "outputs": [
        {
          "output_type": "stream",
          "name": "stdout",
          "text": [
            "  state  account length  area code phone number international plan voice mail plan  number vmail messages  total day minutes  total day calls  total day charge  total eve minutes  total eve calls  total eve charge  total night minutes  total night calls  total night charge  total intl minutes  total intl calls  total intl charge  customer service calls  churn\n",
            "0    KS             128        415     382-4657                 no             yes                     25              265.1              110             45.07              197.4               99             16.78                244.7                 91               11.01                10.0                 3               2.70                       1  False\n",
            "1    OH             107        415     371-7191                 no             yes                     26              161.6              123             27.47              195.5              103             16.62                254.4                103               11.45                13.7                 3               3.70                       1  False\n",
            "2    NJ             137        415     358-1921                 no              no                      0              243.4              114             41.38              121.2              110             10.30                162.6                104                7.32                12.2                 5               3.29                       0  False\n",
            "3    OH              84        408     375-9999                yes              no                      0              299.4               71             50.90               61.9               88              5.26                196.9                 89                8.86                 6.6                 7               1.78                       2  False\n",
            "4    OK              75        415     330-6626                yes              no                      0              166.7              113             28.34              148.3              122             12.61                186.9                121                8.41                10.1                 3               2.73                       3  False\n"
          ]
        }
      ]
    },
    {
      "cell_type": "code",
      "source": [
        "#3. Verifica cuántas filas y columnas tiene el dataset.\n",
        "print (\"Confirmación de Filas y Columnas\")\n",
        "print(f\"El dataset tiene {df.shape[0]} filas y {df.shape[1]} columnas.\")"
      ],
      "metadata": {
        "colab": {
          "base_uri": "https://localhost:8080/"
        },
        "id": "FsKeJodQtFqH",
        "outputId": "9861406e-618d-40d4-9d3b-79a1ee735e9e"
      },
      "execution_count": 88,
      "outputs": [
        {
          "output_type": "stream",
          "name": "stdout",
          "text": [
            "Confirmación de Filas y Columnas\n",
            "El dataset tiene 3333 filas y 21 columnas.\n"
          ]
        }
      ]
    },
    {
      "cell_type": "code",
      "source": [
        "#4. Muestra información general del dataset, incluyendo los tipos de datos.\n",
        "print(df.info())"
      ],
      "metadata": {
        "colab": {
          "base_uri": "https://localhost:8080/"
        },
        "id": "DsARJfy1tIh0",
        "outputId": "8c8b8b86-efa6-4b3e-c74a-2038523475ea"
      },
      "execution_count": 89,
      "outputs": [
        {
          "output_type": "stream",
          "name": "stdout",
          "text": [
            "<class 'pandas.core.frame.DataFrame'>\n",
            "RangeIndex: 3333 entries, 0 to 3332\n",
            "Data columns (total 21 columns):\n",
            " #   Column                  Non-Null Count  Dtype  \n",
            "---  ------                  --------------  -----  \n",
            " 0   state                   3333 non-null   object \n",
            " 1   account length          3333 non-null   int64  \n",
            " 2   area code               3333 non-null   int64  \n",
            " 3   phone number            3333 non-null   object \n",
            " 4   international plan      3333 non-null   object \n",
            " 5   voice mail plan         3333 non-null   object \n",
            " 6   number vmail messages   3333 non-null   int64  \n",
            " 7   total day minutes       3333 non-null   float64\n",
            " 8   total day calls         3333 non-null   int64  \n",
            " 9   total day charge        3333 non-null   float64\n",
            " 10  total eve minutes       3333 non-null   float64\n",
            " 11  total eve calls         3333 non-null   int64  \n",
            " 12  total eve charge        3333 non-null   float64\n",
            " 13  total night minutes     3333 non-null   float64\n",
            " 14  total night calls       3333 non-null   int64  \n",
            " 15  total night charge      3333 non-null   float64\n",
            " 16  total intl minutes      3333 non-null   float64\n",
            " 17  total intl calls        3333 non-null   int64  \n",
            " 18  total intl charge       3333 non-null   float64\n",
            " 19  customer service calls  3333 non-null   int64  \n",
            " 20  churn                   3333 non-null   bool   \n",
            "dtypes: bool(1), float64(8), int64(8), object(4)\n",
            "memory usage: 524.2+ KB\n",
            "None\n"
          ]
        }
      ]
    },
    {
      "cell_type": "code",
      "source": [
        "#5. Identifica si hay valores nulos en alguna columna.\n",
        "print (\"se Identifican los valores nulos\")\n",
        "print(df.isnull().sum())"
      ],
      "metadata": {
        "colab": {
          "base_uri": "https://localhost:8080/"
        },
        "id": "v7K0QKrktLif",
        "outputId": "adc60504-9daf-49a4-e8e1-fe3a1eb88634"
      },
      "execution_count": 90,
      "outputs": [
        {
          "output_type": "stream",
          "name": "stdout",
          "text": [
            "se Identifican los valores nulos\n",
            "state                     0\n",
            "account length            0\n",
            "area code                 0\n",
            "phone number              0\n",
            "international plan        0\n",
            "voice mail plan           0\n",
            "number vmail messages     0\n",
            "total day minutes         0\n",
            "total day calls           0\n",
            "total day charge          0\n",
            "total eve minutes         0\n",
            "total eve calls           0\n",
            "total eve charge          0\n",
            "total night minutes       0\n",
            "total night calls         0\n",
            "total night charge        0\n",
            "total intl minutes        0\n",
            "total intl calls          0\n",
            "total intl charge         0\n",
            "customer service calls    0\n",
            "churn                     0\n",
            "dtype: int64\n"
          ]
        }
      ]
    },
    {
      "cell_type": "code",
      "source": [
        "# Estadísticas descriptivas\n",
        "df.describe()"
      ],
      "metadata": {
        "colab": {
          "base_uri": "https://localhost:8080/",
          "height": 355
        },
        "id": "9LSCq38Wt5jA",
        "outputId": "2e22205f-c454-4487-e575-e65840461756"
      },
      "execution_count": 91,
      "outputs": [
        {
          "output_type": "execute_result",
          "data": {
            "text/plain": [
              "       account length    area code  number vmail messages  total day minutes  total day calls  total day charge  total eve minutes  total eve calls  total eve charge  total night minutes  total night calls  total night charge  total intl minutes  total intl calls  total intl charge  customer service calls\n",
              "count     3333.000000  3333.000000            3333.000000        3333.000000      3333.000000       3333.000000        3333.000000      3333.000000       3333.000000          3333.000000        3333.000000         3333.000000         3333.000000       3333.000000        3333.000000             3333.000000\n",
              "mean       101.064806   437.182418               8.099010         179.775098       100.435644         30.562307         200.980348       100.114311         17.083540           200.872037         100.107711            9.039325           10.237294          4.479448           2.764581                1.562856\n",
              "std         39.822106    42.371290              13.688365          54.467389        20.069084          9.259435          50.713844        19.922625          4.310668            50.573847          19.568609            2.275873            2.791840          2.461214           0.753773                1.315491\n",
              "min          1.000000   408.000000               0.000000           0.000000         0.000000          0.000000           0.000000         0.000000          0.000000            23.200000          33.000000            1.040000            0.000000          0.000000           0.000000                0.000000\n",
              "25%         74.000000   408.000000               0.000000         143.700000        87.000000         24.430000         166.600000        87.000000         14.160000           167.000000          87.000000            7.520000            8.500000          3.000000           2.300000                1.000000\n",
              "50%        101.000000   415.000000               0.000000         179.400000       101.000000         30.500000         201.400000       100.000000         17.120000           201.200000         100.000000            9.050000           10.300000          4.000000           2.780000                1.000000\n",
              "75%        127.000000   510.000000              20.000000         216.400000       114.000000         36.790000         235.300000       114.000000         20.000000           235.300000         113.000000           10.590000           12.100000          6.000000           3.270000                2.000000\n",
              "max        243.000000   510.000000              51.000000         350.800000       165.000000         59.640000         363.700000       170.000000         30.910000           395.000000         175.000000           17.770000           20.000000         20.000000           5.400000                9.000000"
            ],
            "text/html": [
              "\n",
              "  <div id=\"df-ba4f5c6d-33ae-48c6-b096-54e61fb82670\" class=\"colab-df-container\">\n",
              "    <div>\n",
              "<style scoped>\n",
              "    .dataframe tbody tr th:only-of-type {\n",
              "        vertical-align: middle;\n",
              "    }\n",
              "\n",
              "    .dataframe tbody tr th {\n",
              "        vertical-align: top;\n",
              "    }\n",
              "\n",
              "    .dataframe thead th {\n",
              "        text-align: right;\n",
              "    }\n",
              "</style>\n",
              "<table border=\"1\" class=\"dataframe\">\n",
              "  <thead>\n",
              "    <tr style=\"text-align: right;\">\n",
              "      <th></th>\n",
              "      <th>account length</th>\n",
              "      <th>area code</th>\n",
              "      <th>number vmail messages</th>\n",
              "      <th>total day minutes</th>\n",
              "      <th>total day calls</th>\n",
              "      <th>total day charge</th>\n",
              "      <th>total eve minutes</th>\n",
              "      <th>total eve calls</th>\n",
              "      <th>total eve charge</th>\n",
              "      <th>total night minutes</th>\n",
              "      <th>total night calls</th>\n",
              "      <th>total night charge</th>\n",
              "      <th>total intl minutes</th>\n",
              "      <th>total intl calls</th>\n",
              "      <th>total intl charge</th>\n",
              "      <th>customer service calls</th>\n",
              "    </tr>\n",
              "  </thead>\n",
              "  <tbody>\n",
              "    <tr>\n",
              "      <th>count</th>\n",
              "      <td>3333.000000</td>\n",
              "      <td>3333.000000</td>\n",
              "      <td>3333.000000</td>\n",
              "      <td>3333.000000</td>\n",
              "      <td>3333.000000</td>\n",
              "      <td>3333.000000</td>\n",
              "      <td>3333.000000</td>\n",
              "      <td>3333.000000</td>\n",
              "      <td>3333.000000</td>\n",
              "      <td>3333.000000</td>\n",
              "      <td>3333.000000</td>\n",
              "      <td>3333.000000</td>\n",
              "      <td>3333.000000</td>\n",
              "      <td>3333.000000</td>\n",
              "      <td>3333.000000</td>\n",
              "      <td>3333.000000</td>\n",
              "    </tr>\n",
              "    <tr>\n",
              "      <th>mean</th>\n",
              "      <td>101.064806</td>\n",
              "      <td>437.182418</td>\n",
              "      <td>8.099010</td>\n",
              "      <td>179.775098</td>\n",
              "      <td>100.435644</td>\n",
              "      <td>30.562307</td>\n",
              "      <td>200.980348</td>\n",
              "      <td>100.114311</td>\n",
              "      <td>17.083540</td>\n",
              "      <td>200.872037</td>\n",
              "      <td>100.107711</td>\n",
              "      <td>9.039325</td>\n",
              "      <td>10.237294</td>\n",
              "      <td>4.479448</td>\n",
              "      <td>2.764581</td>\n",
              "      <td>1.562856</td>\n",
              "    </tr>\n",
              "    <tr>\n",
              "      <th>std</th>\n",
              "      <td>39.822106</td>\n",
              "      <td>42.371290</td>\n",
              "      <td>13.688365</td>\n",
              "      <td>54.467389</td>\n",
              "      <td>20.069084</td>\n",
              "      <td>9.259435</td>\n",
              "      <td>50.713844</td>\n",
              "      <td>19.922625</td>\n",
              "      <td>4.310668</td>\n",
              "      <td>50.573847</td>\n",
              "      <td>19.568609</td>\n",
              "      <td>2.275873</td>\n",
              "      <td>2.791840</td>\n",
              "      <td>2.461214</td>\n",
              "      <td>0.753773</td>\n",
              "      <td>1.315491</td>\n",
              "    </tr>\n",
              "    <tr>\n",
              "      <th>min</th>\n",
              "      <td>1.000000</td>\n",
              "      <td>408.000000</td>\n",
              "      <td>0.000000</td>\n",
              "      <td>0.000000</td>\n",
              "      <td>0.000000</td>\n",
              "      <td>0.000000</td>\n",
              "      <td>0.000000</td>\n",
              "      <td>0.000000</td>\n",
              "      <td>0.000000</td>\n",
              "      <td>23.200000</td>\n",
              "      <td>33.000000</td>\n",
              "      <td>1.040000</td>\n",
              "      <td>0.000000</td>\n",
              "      <td>0.000000</td>\n",
              "      <td>0.000000</td>\n",
              "      <td>0.000000</td>\n",
              "    </tr>\n",
              "    <tr>\n",
              "      <th>25%</th>\n",
              "      <td>74.000000</td>\n",
              "      <td>408.000000</td>\n",
              "      <td>0.000000</td>\n",
              "      <td>143.700000</td>\n",
              "      <td>87.000000</td>\n",
              "      <td>24.430000</td>\n",
              "      <td>166.600000</td>\n",
              "      <td>87.000000</td>\n",
              "      <td>14.160000</td>\n",
              "      <td>167.000000</td>\n",
              "      <td>87.000000</td>\n",
              "      <td>7.520000</td>\n",
              "      <td>8.500000</td>\n",
              "      <td>3.000000</td>\n",
              "      <td>2.300000</td>\n",
              "      <td>1.000000</td>\n",
              "    </tr>\n",
              "    <tr>\n",
              "      <th>50%</th>\n",
              "      <td>101.000000</td>\n",
              "      <td>415.000000</td>\n",
              "      <td>0.000000</td>\n",
              "      <td>179.400000</td>\n",
              "      <td>101.000000</td>\n",
              "      <td>30.500000</td>\n",
              "      <td>201.400000</td>\n",
              "      <td>100.000000</td>\n",
              "      <td>17.120000</td>\n",
              "      <td>201.200000</td>\n",
              "      <td>100.000000</td>\n",
              "      <td>9.050000</td>\n",
              "      <td>10.300000</td>\n",
              "      <td>4.000000</td>\n",
              "      <td>2.780000</td>\n",
              "      <td>1.000000</td>\n",
              "    </tr>\n",
              "    <tr>\n",
              "      <th>75%</th>\n",
              "      <td>127.000000</td>\n",
              "      <td>510.000000</td>\n",
              "      <td>20.000000</td>\n",
              "      <td>216.400000</td>\n",
              "      <td>114.000000</td>\n",
              "      <td>36.790000</td>\n",
              "      <td>235.300000</td>\n",
              "      <td>114.000000</td>\n",
              "      <td>20.000000</td>\n",
              "      <td>235.300000</td>\n",
              "      <td>113.000000</td>\n",
              "      <td>10.590000</td>\n",
              "      <td>12.100000</td>\n",
              "      <td>6.000000</td>\n",
              "      <td>3.270000</td>\n",
              "      <td>2.000000</td>\n",
              "    </tr>\n",
              "    <tr>\n",
              "      <th>max</th>\n",
              "      <td>243.000000</td>\n",
              "      <td>510.000000</td>\n",
              "      <td>51.000000</td>\n",
              "      <td>350.800000</td>\n",
              "      <td>165.000000</td>\n",
              "      <td>59.640000</td>\n",
              "      <td>363.700000</td>\n",
              "      <td>170.000000</td>\n",
              "      <td>30.910000</td>\n",
              "      <td>395.000000</td>\n",
              "      <td>175.000000</td>\n",
              "      <td>17.770000</td>\n",
              "      <td>20.000000</td>\n",
              "      <td>20.000000</td>\n",
              "      <td>5.400000</td>\n",
              "      <td>9.000000</td>\n",
              "    </tr>\n",
              "  </tbody>\n",
              "</table>\n",
              "</div>\n",
              "    <div class=\"colab-df-buttons\">\n",
              "\n",
              "  <div class=\"colab-df-container\">\n",
              "    <button class=\"colab-df-convert\" onclick=\"convertToInteractive('df-ba4f5c6d-33ae-48c6-b096-54e61fb82670')\"\n",
              "            title=\"Convert this dataframe to an interactive table.\"\n",
              "            style=\"display:none;\">\n",
              "\n",
              "  <svg xmlns=\"http://www.w3.org/2000/svg\" height=\"24px\" viewBox=\"0 -960 960 960\">\n",
              "    <path d=\"M120-120v-720h720v720H120Zm60-500h600v-160H180v160Zm220 220h160v-160H400v160Zm0 220h160v-160H400v160ZM180-400h160v-160H180v160Zm440 0h160v-160H620v160ZM180-180h160v-160H180v160Zm440 0h160v-160H620v160Z\"/>\n",
              "  </svg>\n",
              "    </button>\n",
              "\n",
              "  <style>\n",
              "    .colab-df-container {\n",
              "      display:flex;\n",
              "      gap: 12px;\n",
              "    }\n",
              "\n",
              "    .colab-df-convert {\n",
              "      background-color: #E8F0FE;\n",
              "      border: none;\n",
              "      border-radius: 50%;\n",
              "      cursor: pointer;\n",
              "      display: none;\n",
              "      fill: #1967D2;\n",
              "      height: 32px;\n",
              "      padding: 0 0 0 0;\n",
              "      width: 32px;\n",
              "    }\n",
              "\n",
              "    .colab-df-convert:hover {\n",
              "      background-color: #E2EBFA;\n",
              "      box-shadow: 0px 1px 2px rgba(60, 64, 67, 0.3), 0px 1px 3px 1px rgba(60, 64, 67, 0.15);\n",
              "      fill: #174EA6;\n",
              "    }\n",
              "\n",
              "    .colab-df-buttons div {\n",
              "      margin-bottom: 4px;\n",
              "    }\n",
              "\n",
              "    [theme=dark] .colab-df-convert {\n",
              "      background-color: #3B4455;\n",
              "      fill: #D2E3FC;\n",
              "    }\n",
              "\n",
              "    [theme=dark] .colab-df-convert:hover {\n",
              "      background-color: #434B5C;\n",
              "      box-shadow: 0px 1px 3px 1px rgba(0, 0, 0, 0.15);\n",
              "      filter: drop-shadow(0px 1px 2px rgba(0, 0, 0, 0.3));\n",
              "      fill: #FFFFFF;\n",
              "    }\n",
              "  </style>\n",
              "\n",
              "    <script>\n",
              "      const buttonEl =\n",
              "        document.querySelector('#df-ba4f5c6d-33ae-48c6-b096-54e61fb82670 button.colab-df-convert');\n",
              "      buttonEl.style.display =\n",
              "        google.colab.kernel.accessAllowed ? 'block' : 'none';\n",
              "\n",
              "      async function convertToInteractive(key) {\n",
              "        const element = document.querySelector('#df-ba4f5c6d-33ae-48c6-b096-54e61fb82670');\n",
              "        const dataTable =\n",
              "          await google.colab.kernel.invokeFunction('convertToInteractive',\n",
              "                                                    [key], {});\n",
              "        if (!dataTable) return;\n",
              "\n",
              "        const docLinkHtml = 'Like what you see? Visit the ' +\n",
              "          '<a target=\"_blank\" href=https://colab.research.google.com/notebooks/data_table.ipynb>data table notebook</a>'\n",
              "          + ' to learn more about interactive tables.';\n",
              "        element.innerHTML = '';\n",
              "        dataTable['output_type'] = 'display_data';\n",
              "        await google.colab.output.renderOutput(dataTable, element);\n",
              "        const docLink = document.createElement('div');\n",
              "        docLink.innerHTML = docLinkHtml;\n",
              "        element.appendChild(docLink);\n",
              "      }\n",
              "    </script>\n",
              "  </div>\n",
              "\n",
              "\n",
              "<div id=\"df-24fd15ff-e75e-4fdf-ba6f-23b6c61a6df3\">\n",
              "  <button class=\"colab-df-quickchart\" onclick=\"quickchart('df-24fd15ff-e75e-4fdf-ba6f-23b6c61a6df3')\"\n",
              "            title=\"Suggest charts\"\n",
              "            style=\"display:none;\">\n",
              "\n",
              "<svg xmlns=\"http://www.w3.org/2000/svg\" height=\"24px\"viewBox=\"0 0 24 24\"\n",
              "     width=\"24px\">\n",
              "    <g>\n",
              "        <path d=\"M19 3H5c-1.1 0-2 .9-2 2v14c0 1.1.9 2 2 2h14c1.1 0 2-.9 2-2V5c0-1.1-.9-2-2-2zM9 17H7v-7h2v7zm4 0h-2V7h2v10zm4 0h-2v-4h2v4z\"/>\n",
              "    </g>\n",
              "</svg>\n",
              "  </button>\n",
              "\n",
              "<style>\n",
              "  .colab-df-quickchart {\n",
              "      --bg-color: #E8F0FE;\n",
              "      --fill-color: #1967D2;\n",
              "      --hover-bg-color: #E2EBFA;\n",
              "      --hover-fill-color: #174EA6;\n",
              "      --disabled-fill-color: #AAA;\n",
              "      --disabled-bg-color: #DDD;\n",
              "  }\n",
              "\n",
              "  [theme=dark] .colab-df-quickchart {\n",
              "      --bg-color: #3B4455;\n",
              "      --fill-color: #D2E3FC;\n",
              "      --hover-bg-color: #434B5C;\n",
              "      --hover-fill-color: #FFFFFF;\n",
              "      --disabled-bg-color: #3B4455;\n",
              "      --disabled-fill-color: #666;\n",
              "  }\n",
              "\n",
              "  .colab-df-quickchart {\n",
              "    background-color: var(--bg-color);\n",
              "    border: none;\n",
              "    border-radius: 50%;\n",
              "    cursor: pointer;\n",
              "    display: none;\n",
              "    fill: var(--fill-color);\n",
              "    height: 32px;\n",
              "    padding: 0;\n",
              "    width: 32px;\n",
              "  }\n",
              "\n",
              "  .colab-df-quickchart:hover {\n",
              "    background-color: var(--hover-bg-color);\n",
              "    box-shadow: 0 1px 2px rgba(60, 64, 67, 0.3), 0 1px 3px 1px rgba(60, 64, 67, 0.15);\n",
              "    fill: var(--button-hover-fill-color);\n",
              "  }\n",
              "\n",
              "  .colab-df-quickchart-complete:disabled,\n",
              "  .colab-df-quickchart-complete:disabled:hover {\n",
              "    background-color: var(--disabled-bg-color);\n",
              "    fill: var(--disabled-fill-color);\n",
              "    box-shadow: none;\n",
              "  }\n",
              "\n",
              "  .colab-df-spinner {\n",
              "    border: 2px solid var(--fill-color);\n",
              "    border-color: transparent;\n",
              "    border-bottom-color: var(--fill-color);\n",
              "    animation:\n",
              "      spin 1s steps(1) infinite;\n",
              "  }\n",
              "\n",
              "  @keyframes spin {\n",
              "    0% {\n",
              "      border-color: transparent;\n",
              "      border-bottom-color: var(--fill-color);\n",
              "      border-left-color: var(--fill-color);\n",
              "    }\n",
              "    20% {\n",
              "      border-color: transparent;\n",
              "      border-left-color: var(--fill-color);\n",
              "      border-top-color: var(--fill-color);\n",
              "    }\n",
              "    30% {\n",
              "      border-color: transparent;\n",
              "      border-left-color: var(--fill-color);\n",
              "      border-top-color: var(--fill-color);\n",
              "      border-right-color: var(--fill-color);\n",
              "    }\n",
              "    40% {\n",
              "      border-color: transparent;\n",
              "      border-right-color: var(--fill-color);\n",
              "      border-top-color: var(--fill-color);\n",
              "    }\n",
              "    60% {\n",
              "      border-color: transparent;\n",
              "      border-right-color: var(--fill-color);\n",
              "    }\n",
              "    80% {\n",
              "      border-color: transparent;\n",
              "      border-right-color: var(--fill-color);\n",
              "      border-bottom-color: var(--fill-color);\n",
              "    }\n",
              "    90% {\n",
              "      border-color: transparent;\n",
              "      border-bottom-color: var(--fill-color);\n",
              "    }\n",
              "  }\n",
              "</style>\n",
              "\n",
              "  <script>\n",
              "    async function quickchart(key) {\n",
              "      const quickchartButtonEl =\n",
              "        document.querySelector('#' + key + ' button');\n",
              "      quickchartButtonEl.disabled = true;  // To prevent multiple clicks.\n",
              "      quickchartButtonEl.classList.add('colab-df-spinner');\n",
              "      try {\n",
              "        const charts = await google.colab.kernel.invokeFunction(\n",
              "            'suggestCharts', [key], {});\n",
              "      } catch (error) {\n",
              "        console.error('Error during call to suggestCharts:', error);\n",
              "      }\n",
              "      quickchartButtonEl.classList.remove('colab-df-spinner');\n",
              "      quickchartButtonEl.classList.add('colab-df-quickchart-complete');\n",
              "    }\n",
              "    (() => {\n",
              "      let quickchartButtonEl =\n",
              "        document.querySelector('#df-24fd15ff-e75e-4fdf-ba6f-23b6c61a6df3 button');\n",
              "      quickchartButtonEl.style.display =\n",
              "        google.colab.kernel.accessAllowed ? 'block' : 'none';\n",
              "    })();\n",
              "  </script>\n",
              "</div>\n",
              "\n",
              "    </div>\n",
              "  </div>\n"
            ],
            "application/vnd.google.colaboratory.intrinsic+json": {
              "type": "dataframe",
              "summary": "{\n  \"name\": \"df\",\n  \"rows\": 8,\n  \"fields\": [\n    {\n      \"column\": \"account length\",\n      \"properties\": {\n        \"dtype\": \"number\",\n        \"std\": 1145.9000546457337,\n        \"min\": 1.0,\n        \"max\": 3333.0,\n        \"num_unique_values\": 8,\n        \"samples\": [\n          101.06480648064806,\n          101.0,\n          3333.0\n        ],\n        \"semantic_type\": \"\",\n        \"description\": \"\"\n      }\n    },\n    {\n      \"column\": \"area code\",\n      \"properties\": {\n        \"dtype\": \"number\",\n        \"std\": 1050.9404187100654,\n        \"min\": 42.371290485606224,\n        \"max\": 3333.0,\n        \"num_unique_values\": 6,\n        \"samples\": [\n          3333.0,\n          437.18241824182417,\n          510.0\n        ],\n        \"semantic_type\": \"\",\n        \"description\": \"\"\n      }\n    },\n    {\n      \"column\": \"number vmail messages\",\n      \"properties\": {\n        \"dtype\": \"number\",\n        \"std\": 1173.8301515451412,\n        \"min\": 0.0,\n        \"max\": 3333.0,\n        \"num_unique_values\": 6,\n        \"samples\": [\n          3333.0,\n          8.099009900990099,\n          51.0\n        ],\n        \"semantic_type\": \"\",\n        \"description\": \"\"\n      }\n    },\n    {\n      \"column\": \"total day minutes\",\n      \"properties\": {\n        \"dtype\": \"number\",\n        \"std\": 1126.5109095005125,\n        \"min\": 0.0,\n        \"max\": 3333.0,\n        \"num_unique_values\": 8,\n        \"samples\": [\n          179.77509750975094,\n          179.4,\n          3333.0\n        ],\n        \"semantic_type\": \"\",\n        \"description\": \"\"\n      }\n    },\n    {\n      \"column\": \"total day calls\",\n      \"properties\": {\n        \"dtype\": \"number\",\n        \"std\": 1149.911513463978,\n        \"min\": 0.0,\n        \"max\": 3333.0,\n        \"num_unique_values\": 8,\n        \"samples\": [\n          100.43564356435644,\n          101.0,\n          3333.0\n        ],\n        \"semantic_type\": \"\",\n        \"description\": \"\"\n      }\n    },\n    {\n      \"column\": \"total day charge\",\n      \"properties\": {\n        \"dtype\": \"number\",\n        \"std\": 1168.8739502927276,\n        \"min\": 0.0,\n        \"max\": 3333.0,\n        \"num_unique_values\": 8,\n        \"samples\": [\n          30.562307230723075,\n          30.5,\n          3333.0\n        ],\n        \"semantic_type\": \"\",\n        \"description\": \"\"\n      }\n    },\n    {\n      \"column\": \"total eve minutes\",\n      \"properties\": {\n        \"dtype\": \"number\",\n        \"std\": 1122.3747331695974,\n        \"min\": 0.0,\n        \"max\": 3333.0,\n        \"num_unique_values\": 8,\n        \"samples\": [\n          200.98034803480348,\n          201.4,\n          3333.0\n        ],\n        \"semantic_type\": \"\",\n        \"description\": \"\"\n      }\n    },\n    {\n      \"column\": \"total eve calls\",\n      \"properties\": {\n        \"dtype\": \"number\",\n        \"std\": 1149.7835542430264,\n        \"min\": 0.0,\n        \"max\": 3333.0,\n        \"num_unique_values\": 8,\n        \"samples\": [\n          100.11431143114311,\n          100.0,\n          3333.0\n        ],\n        \"semantic_type\": \"\",\n        \"description\": \"\"\n      }\n    },\n    {\n      \"column\": \"total eve charge\",\n      \"properties\": {\n        \"dtype\": \"number\",\n        \"std\": 1173.1998112594604,\n        \"min\": 0.0,\n        \"max\": 3333.0,\n        \"num_unique_values\": 8,\n        \"samples\": [\n          17.083540354035403,\n          17.12,\n          3333.0\n        ],\n        \"semantic_type\": \"\",\n        \"description\": \"\"\n      }\n    },\n    {\n      \"column\": \"total night minutes\",\n      \"properties\": {\n        \"dtype\": \"number\",\n        \"std\": 1119.9504817494353,\n        \"min\": 23.2,\n        \"max\": 3333.0,\n        \"num_unique_values\": 8,\n        \"samples\": [\n          200.87203720372037,\n          201.2,\n          3333.0\n        ],\n        \"semantic_type\": \"\",\n        \"description\": \"\"\n      }\n    },\n    {\n      \"column\": \"total night calls\",\n      \"properties\": {\n        \"dtype\": \"number\",\n        \"std\": 1147.6980607245025,\n        \"min\": 19.568609346058615,\n        \"max\": 3333.0,\n        \"num_unique_values\": 8,\n        \"samples\": [\n          100.10771077107711,\n          100.0,\n          3333.0\n        ],\n        \"semantic_type\": \"\",\n        \"description\": \"\"\n      }\n    },\n    {\n      \"column\": \"total night charge\",\n      \"properties\": {\n        \"dtype\": \"number\",\n        \"std\": 1175.5113859334938,\n        \"min\": 1.04,\n        \"max\": 3333.0,\n        \"num_unique_values\": 8,\n        \"samples\": [\n          9.03932493249325,\n          9.05,\n          3333.0\n        ],\n        \"semantic_type\": \"\",\n        \"description\": \"\"\n      }\n    },\n    {\n      \"column\": \"total intl minutes\",\n      \"properties\": {\n        \"dtype\": \"number\",\n        \"std\": 1175.1799500190261,\n        \"min\": 0.0,\n        \"max\": 3333.0,\n        \"num_unique_values\": 8,\n        \"samples\": [\n          10.237293729372938,\n          10.3,\n          3333.0\n        ],\n        \"semantic_type\": \"\",\n        \"description\": \"\"\n      }\n    },\n    {\n      \"column\": \"total intl calls\",\n      \"properties\": {\n        \"dtype\": \"number\",\n        \"std\": 1176.3918828456763,\n        \"min\": 0.0,\n        \"max\": 3333.0,\n        \"num_unique_values\": 8,\n        \"samples\": [\n          4.4794479447944795,\n          4.0,\n          3333.0\n        ],\n        \"semantic_type\": \"\",\n        \"description\": \"\"\n      }\n    },\n    {\n      \"column\": \"total intl charge\",\n      \"properties\": {\n        \"dtype\": \"number\",\n        \"std\": 1177.5223884342768,\n        \"min\": 0.0,\n        \"max\": 3333.0,\n        \"num_unique_values\": 8,\n        \"samples\": [\n          2.7645814581458144,\n          2.78,\n          3333.0\n        ],\n        \"semantic_type\": \"\",\n        \"description\": \"\"\n      }\n    },\n    {\n      \"column\": \"customer service calls\",\n      \"properties\": {\n        \"dtype\": \"number\",\n        \"std\": 1177.5948187412755,\n        \"min\": 0.0,\n        \"max\": 3333.0,\n        \"num_unique_values\": 7,\n        \"samples\": [\n          3333.0,\n          1.5628562856285628,\n          2.0\n        ],\n        \"semantic_type\": \"\",\n        \"description\": \"\"\n      }\n    }\n  ]\n}"
            }
          },
          "metadata": {},
          "execution_count": 91
        }
      ]
    },
    {
      "cell_type": "code",
      "source": [
        "# Conteo de valores únicos\n",
        "print(df.nunique())"
      ],
      "metadata": {
        "colab": {
          "base_uri": "https://localhost:8080/"
        },
        "id": "E0yzhqjww_uR",
        "outputId": "4782be24-7bc0-4136-e681-246c9dba5f37"
      },
      "execution_count": 92,
      "outputs": [
        {
          "output_type": "stream",
          "name": "stdout",
          "text": [
            "state                       51\n",
            "account length             212\n",
            "area code                    3\n",
            "phone number              3333\n",
            "international plan           2\n",
            "voice mail plan              2\n",
            "number vmail messages       46\n",
            "total day minutes         1667\n",
            "total day calls            119\n",
            "total day charge          1667\n",
            "total eve minutes         1611\n",
            "total eve calls            123\n",
            "total eve charge          1440\n",
            "total night minutes       1591\n",
            "total night calls          120\n",
            "total night charge         933\n",
            "total intl minutes         162\n",
            "total intl calls            21\n",
            "total intl charge          162\n",
            "customer service calls      10\n",
            "churn                        2\n",
            "dtype: int64\n"
          ]
        }
      ]
    },
    {
      "cell_type": "code",
      "source": [
        "# Distribución de valores\n",
        "print(df['churn'].value_counts())\n",
        "print(df['area code'].value_counts())\n",
        "print(df['international plan'].value_counts())\n",
        "print(df['voice mail plan'].value_counts())"
      ],
      "metadata": {
        "colab": {
          "base_uri": "https://localhost:8080/"
        },
        "id": "BsH8bG0lxRnE",
        "outputId": "07de7c0b-073f-439f-8d9f-18adfe17eb9d"
      },
      "execution_count": 93,
      "outputs": [
        {
          "output_type": "stream",
          "name": "stdout",
          "text": [
            "churn\n",
            "False    2850\n",
            "True      483\n",
            "Name: count, dtype: int64\n",
            "area code\n",
            "415    1655\n",
            "510     840\n",
            "408     838\n",
            "Name: count, dtype: int64\n",
            "international plan\n",
            "no     3010\n",
            "yes     323\n",
            "Name: count, dtype: int64\n",
            "voice mail plan\n",
            "no     2411\n",
            "yes     922\n",
            "Name: count, dtype: int64\n"
          ]
        }
      ]
    },
    {
      "cell_type": "markdown",
      "source": [
        "**Análisis de Churn y Factores Relacionados**\n",
        "\n",
        "Calcula el porcentaje de clientes que han desertado (churn = 1).\n",
        "\n",
        "Identifica si los clientes con plan internacional (international plan) tienen mayor tasa de deserción.\n",
        "\n",
        "Identifica si los clientes con buzón de voz (voice mail plan) tienen menor tasa de deserción."
      ],
      "metadata": {
        "id": "PIGXq-ijFgb4"
      }
    },
    {
      "cell_type": "code",
      "source": [
        "# Solución propuesta\n",
        "# Calcular el porcentaje de churn\n",
        "porcentaje_churn = (df['churn'].sum() / len(df)) * 100 #suma los valores True de la columna sobre el total clientes\n",
        "\n",
        "print(f\"El porcentaje de clientes que han desertado es del {porcentaje_churn:.2f}%\")"
      ],
      "metadata": {
        "id": "3_TFqdwBwUD-",
        "colab": {
          "base_uri": "https://localhost:8080/"
        },
        "outputId": "01e5954e-7637-46ad-f0eb-bdaeeb687d83"
      },
      "execution_count": 94,
      "outputs": [
        {
          "output_type": "stream",
          "name": "stdout",
          "text": [
            "El porcentaje de clientes que han desertado es del 14.49%\n"
          ]
        }
      ]
    },
    {
      "cell_type": "code",
      "source": [
        "# Calcular la tasa de deserción para clientes con y sin plan internacional\n",
        "churn_con_plan_internacional = df[df['international plan'] == 'yes']['churn'].mean() * 100\n",
        "churn_sin_plan_internacional = df[df['international plan'] == 'no']['churn'].mean() * 100\n",
        "\n",
        "print(f\"Tasa de deserción con plan internacional: {churn_con_plan_internacional:.2f}%\")\n",
        "print(f\"Tasa de deserción sin plan internacional: {churn_sin_plan_internacional:.2f}%\")\n",
        "\n",
        "# Comparamos las tasas\n",
        "if churn_con_plan_internacional > churn_sin_plan_internacional:\n",
        "    print(\"Los clientes con plan internacional tienen una mayor tasa de deserción.\")\n",
        "else:\n",
        "    print(\"Los clientes con plan internacional no tienen una mayor tasa de deserción.\")"
      ],
      "metadata": {
        "colab": {
          "base_uri": "https://localhost:8080/"
        },
        "id": "pkFMe1cC36Sp",
        "outputId": "1e566f8e-db3f-4c66-a030-0f5a999389cd"
      },
      "execution_count": 95,
      "outputs": [
        {
          "output_type": "stream",
          "name": "stdout",
          "text": [
            "Tasa de deserción con plan internacional: 42.41%\n",
            "Tasa de deserción sin plan internacional: 11.50%\n",
            "Los clientes con plan internacional tienen una mayor tasa de deserción.\n"
          ]
        }
      ]
    },
    {
      "cell_type": "markdown",
      "source": [
        "**Análisis de la Duración del Servicio y Deserción**\n",
        "\n",
        "¿Cuál es la duración promedio de la cuenta (account length) entre clientes que desertaron y los que permanecen?\n",
        "\n",
        "¿Los clientes con cuentas más antiguas tienen más probabilidades de desertar?"
      ],
      "metadata": {
        "id": "yL8Y_juFFup7"
      }
    },
    {
      "cell_type": "code",
      "source": [
        "# Solución propuesta\n",
        "# Calcular la duración promedio para cada grupo (en meses)\n",
        "duracion_promedio_churn_meses = df[df['churn'] == 1]['account length'].mean()\n",
        "duracion_promedio_no_churn_meses = df[df['churn'] == 0]['account length'].mean()\n",
        "\n",
        "# Convertir a meses y días\n",
        "def convertir_a_meses_dias(meses):\n",
        "    dias = (meses * 30.44) % 30.44  # Usamos 30.44 días/mes (promedio)\n",
        "    meses_int = int(meses)\n",
        "    dias_int = int(dias)\n",
        "    return meses_int, dias_int\n",
        "\n",
        "duracion_churn_meses, duracion_churn_dias = convertir_a_meses_dias(duracion_promedio_churn_meses)\n",
        "duracion_no_churn_meses, duracion_no_churn_dias = convertir_a_meses_dias(duracion_promedio_no_churn_meses)\n",
        "\n",
        "print(f\"Duración promedio de cuenta (desertaron): {duracion_churn_meses} meses y {duracion_churn_dias} días\")\n",
        "print(f\"Duración promedio de cuenta (permanecen): {duracion_no_churn_meses} meses y {duracion_no_churn_dias} días\")"
      ],
      "metadata": {
        "id": "7ViU0n6lGFao",
        "colab": {
          "base_uri": "https://localhost:8080/"
        },
        "outputId": "3337f2bc-98da-4091-9578-7f59e3845bb8"
      },
      "execution_count": 96,
      "outputs": [
        {
          "output_type": "stream",
          "name": "stdout",
          "text": [
            "Duración promedio de cuenta (desertaron): 102 meses y 20 días\n",
            "Duración promedio de cuenta (permanecen): 100 meses y 24 días\n"
          ]
        }
      ]
    },
    {
      "cell_type": "code",
      "source": [
        "# Crear grupos de antigüedad\n",
        "df['antiguedad_grupo'] = pd.cut(df['account length'], bins=[0, 50, 100, float('inf')], labels=['< 50', '50-100', '> 100'])\n",
        "\n",
        "# Calcular estadísticas por grupo\n",
        "resultados = df.groupby('antiguedad_grupo', observed=True).agg({\n",
        "    'churn': ['mean', 'sum', 'count']  # Incluimos la suma de 'churn'\n",
        "})\n",
        "\n",
        "# Renombrar columnas\n",
        "resultados.columns = ['tasa_desercion', 'cantidad_desercion', 'cantidad_clientes']\n",
        "\n",
        "# Calcular porcentaje de deserción\n",
        "resultados['tasa_desercion'] = resultados['tasa_desercion'] * 100\n",
        "\n",
        "# Encontrar el grupo con la mayor tasa de deserción\n",
        "grupo_max_desercion = resultados['tasa_desercion'].idxmax()\n",
        "tasa_max_desercion = resultados['tasa_desercion'].max()\n",
        "\n",
        "# Imprimir resultados de forma clara\n",
        "print(\"\\nResultados por grupo de antigüedad:\")\n",
        "print(resultados)\n",
        "\n",
        "print(f\"\\nEl grupo con la mayor tasa de deserción es: {grupo_max_desercion} ({tasa_max_desercion:.2f}%)\")\n",
        "\n",
        "# Respuesta a la pregunta\n",
        "if resultados.index.get_loc(grupo_max_desercion) > resultados.index.get_loc('< 50'):\n",
        "    print(\"\\nLos clientes con cuentas más antiguas tienen más probabilidades de desertar.\")\n",
        "else:\n",
        "    print(\"\\nLos clientes con cuentas más antiguas NO tienen más probabilidades de desertar.\")"
      ],
      "metadata": {
        "colab": {
          "base_uri": "https://localhost:8080/"
        },
        "id": "eV9YMsROf2ZH",
        "outputId": "334364d4-eabe-4e3d-a30b-fcd4a4d59465"
      },
      "execution_count": 97,
      "outputs": [
        {
          "output_type": "stream",
          "name": "stdout",
          "text": [
            "\n",
            "Resultados por grupo de antigüedad:\n",
            "                  tasa_desercion  cantidad_desercion  cantidad_clientes\n",
            "antiguedad_grupo                                                       \n",
            "< 50                   12.903226                  44                341\n",
            "50-100                 14.361300                 190               1323\n",
            "> 100                  14.919113                 249               1669\n",
            "\n",
            "El grupo con la mayor tasa de deserción es: > 100 (14.92%)\n",
            "\n",
            "Los clientes con cuentas más antiguas tienen más probabilidades de desertar.\n"
          ]
        }
      ]
    },
    {
      "cell_type": "markdown",
      "source": [
        "**Relación entre Deserción y Uso del Servicio**\n",
        "\n",
        "Compara la cantidad de minutos usados en llamadas diurnas (total day minutes) entre clientes con y sin churn.\n",
        "\n",
        "Compara la cantidad de minutos usados en llamadas nocturnas (total night minutes).\n",
        "\n",
        "Compara el número total de llamadas (total day calls) entre clientes con y sin churn."
      ],
      "metadata": {
        "id": "vyaa82K0GF6B"
      }
    },
    {
      "cell_type": "code",
      "source": [
        "# Función para realizar el análisis y la comparación\n",
        "def analizar_llamadas(df, tipo_llamada):\n",
        "    if tipo_llamada == 'diurnas':\n",
        "        minutos_col = 'total day minutes'\n",
        "        llamadas_col = 'total day calls'\n",
        "    elif tipo_llamada == 'nocturnas':\n",
        "        minutos_col = 'total night minutes'\n",
        "        llamadas_col = 'total night calls'\n",
        "    elif tipo_llamada == 'internacionales':\n",
        "      minutos_col = 'total intl minutes'\n",
        "      llamadas_col = 'total intl calls'\n",
        "    else:\n",
        "        return  # No se analiza si no es un tipo válido\n",
        "\n",
        "    print(f\"\\nAnálisis de llamadas {tipo_llamada}:\")\n",
        "    print(df.groupby('churn').agg({minutos_col: ['mean', 'median'], llamadas_col: ['mean', 'median']}))\n",
        "\n",
        "    media_minutos_churn = df[df['churn'] == 1][minutos_col].mean()\n",
        "    media_minutos_no_churn = df[df['churn'] == 0][minutos_col].mean()\n",
        "\n",
        "    if media_minutos_churn > media_minutos_no_churn:\n",
        "        print(f\"\\nEn promedio, los clientes que desertan usan más minutos en llamadas {tipo_llamada}.\")\n",
        "    else:\n",
        "        print(f\"\\nEn promedio, los clientes que desertan no usan más minutos en llamadas {tipo_llamada}.\")\n",
        "\n",
        "    media_llamadas_churn = df[df['churn'] == 1][llamadas_col].mean()\n",
        "    media_llamadas_no_churn = df[df['churn'] == 0][llamadas_col].mean()\n",
        "\n",
        "    if media_llamadas_churn > media_llamadas_no_churn:\n",
        "        print(f\"\\nEn promedio, los clientes que desertan realizan más llamadas {tipo_llamada}.\")\n",
        "    else:\n",
        "        print(f\"\\nEn promedio, los clientes que desertan no realizan más llamadas {tipo_llamada}.\")\n",
        "\n",
        "\n",
        "# Análisis de llamadas diurnas\n",
        "analizar_llamadas(df, 'diurnas')\n",
        "\n",
        "# Análisis de llamadas nocturnas\n",
        "analizar_llamadas(df, 'nocturnas')\n",
        "\n",
        "# Análisis de llamadas internacionales\n",
        "analizar_llamadas(df, 'internacionales')\n",
        "\n",
        "# Análisis del número total de llamadas (combinando diurnas y nocturnas)\n",
        "df['total calls'] = df['total day calls'] + df['total night calls'] + df['total intl calls']\n",
        "analizar_llamadas(df, 'totales')  # Llamamos a la función con el tipo 'totales'"
      ],
      "metadata": {
        "colab": {
          "base_uri": "https://localhost:8080/"
        },
        "id": "yQj36vSmnCv8",
        "outputId": "e9123db6-1e1a-4639-a67c-b60b42c77aff"
      },
      "execution_count": 98,
      "outputs": [
        {
          "output_type": "stream",
          "name": "stdout",
          "text": [
            "\n",
            "Análisis de llamadas diurnas:\n",
            "      total day minutes        total day calls       \n",
            "                   mean median            mean median\n",
            "churn                                                \n",
            "False        175.175754  177.2      100.283158  100.0\n",
            "True         206.914079  217.6      101.335404  103.0\n",
            "\n",
            "En promedio, los clientes que desertan usan más minutos en llamadas diurnas.\n",
            "\n",
            "En promedio, los clientes que desertan realizan más llamadas diurnas.\n",
            "\n",
            "Análisis de llamadas nocturnas:\n",
            "      total night minutes         total night calls       \n",
            "                     mean  median              mean median\n",
            "churn                                                     \n",
            "False          200.133193  200.25        100.058246  100.0\n",
            "True           205.231677  204.80        100.399586  100.0\n",
            "\n",
            "En promedio, los clientes que desertan usan más minutos en llamadas nocturnas.\n",
            "\n",
            "En promedio, los clientes que desertan realizan más llamadas nocturnas.\n",
            "\n",
            "Análisis de llamadas internacionales:\n",
            "      total intl minutes        total intl calls       \n",
            "                    mean median             mean median\n",
            "churn                                                  \n",
            "False          10.158877   10.2         4.532982    4.0\n",
            "True           10.700000   10.6         4.163561    4.0\n",
            "\n",
            "En promedio, los clientes que desertan usan más minutos en llamadas internacionales.\n",
            "\n",
            "En promedio, los clientes que desertan no realizan más llamadas internacionales.\n"
          ]
        }
      ]
    },
    {
      "cell_type": "code",
      "source": [
        "# Función para analizar un tipo de llamada\n",
        "def analizar_llamadas(df, tipo_llamada):\n",
        "    minutos_col = f'total {tipo_llamada} minutes'\n",
        "    llamadas_col = f'total {tipo_llamada} calls'\n",
        "\n",
        "    print(f\"\\nAnálisis de llamadas {tipo_llamada}:\")\n",
        "    resultados = df.groupby('churn').agg({minutos_col: ['sum'], llamadas_col: ['sum']})\n",
        "\n",
        "    # Formatear números con separadores de miles\n",
        "    for col in resultados.columns:\n",
        "        resultados[col] = resultados[col].apply(lambda x: \"{:,}\".format(x))\n",
        "\n",
        "    print(resultados)\n",
        "\n",
        "    # Comparación de la suma de minutos\n",
        "    suma_minutos_churn = df[df['churn'] == 1][minutos_col].sum()\n",
        "    suma_minutos_no_churn = df[df['churn'] == 0][minutos_col].sum()\n",
        "\n",
        "    if suma_minutos_churn > suma_minutos_no_churn:\n",
        "        print(f\"\\nEn total, los clientes que desertan usan más minutos en llamadas {tipo_llamada}.\")\n",
        "    else:\n",
        "        print(f\"\\nEn total, los clientes que desertan no usan más minutos en llamadas {tipo_llamada}.\")\n",
        "\n",
        "    # Comparación de la suma de llamadas\n",
        "    suma_llamadas_churn = df[df['churn'] == 1][llamadas_col].sum()\n",
        "    suma_llamadas_no_churn = df[df['churn'] == 0][llamadas_col].sum()\n",
        "\n",
        "    if suma_llamadas_churn > suma_llamadas_no_churn:\n",
        "        print(f\"\\nEn total, los clientes que desertan realizan más llamadas {tipo_llamada}.\")\n",
        "    else:\n",
        "        print(f\"\\nEn total, los clientes que desertan no realizan más llamadas {tipo_llamada}.\")\n",
        "\n",
        "# Análisis por tipo de llamada\n",
        "tipos_llamada = ['day', 'eve', 'night', 'intl']\n",
        "for tipo in tipos_llamada:\n",
        "    analizar_llamadas(df, tipo)\n",
        "\n",
        "# Análisis global\n",
        "print(\"\\nAnálisis global de llamadas:\")\n",
        "df['total_minutes'] = df['total day minutes'] + df['total eve minutes'] + df['total night minutes'] + df['total intl minutes']\n",
        "df['total_calls'] = df['total day calls'] + df['total eve calls'] + df['total night calls'] + df['total intl calls']\n",
        "\n",
        "resultados_globales = df.groupby('churn').agg({'total_minutes': ['sum'], 'total_calls': ['sum']})\n",
        "\n",
        "# Formatear números con separadores de miles\n",
        "for col in resultados_globales.columns:\n",
        "    resultados_globales[col] = resultados_globales[col].apply(lambda x: \"{:,}\".format(x))\n",
        "\n",
        "print(resultados_globales)\n",
        "\n",
        "# Comparación global de la suma de minutos\n",
        "suma_minutos_churn = df[df['churn'] == 1]['total_minutes'].sum()\n",
        "suma_minutos_no_churn = df[df['churn'] == 0]['total_minutes'].sum()\n",
        "\n",
        "if suma_minutos_churn > suma_minutos_no_churn:\n",
        "    print(\"\\nEn total, los clientes que desertan usan más minutos en total.\")\n",
        "else:\n",
        "    print(\"\\nEn total, los clientes que desertan no usan más minutos en total.\")\n",
        "\n",
        "# Comparación global de la suma de llamadas\n",
        "suma_llamadas_churn = df[df['churn'] == 1]['total_calls'].sum()\n",
        "suma_llamadas_no_churn = df[df['churn'] == 0]['total_calls'].sum()\n",
        "\n",
        "if suma_llamadas_churn > suma_llamadas_no_churn:\n",
        "    print(\"\\nEn total, los clientes que desertan realizan más llamadas en total.\")\n",
        "else:\n",
        "    print(\"\\nEn total, los clientes que desertan no realizan más llamadas en total.\")"
      ],
      "metadata": {
        "colab": {
          "base_uri": "https://localhost:8080/"
        },
        "id": "YCCx9O2OqoPW",
        "outputId": "3394ec74-98d9-456b-cd82-91328db5f6b0"
      },
      "execution_count": 99,
      "outputs": [
        {
          "output_type": "stream",
          "name": "stdout",
          "text": [
            "\n",
            "Análisis de llamadas day:\n",
            "      total day minutes total day calls\n",
            "                    sum             sum\n",
            "churn                                  \n",
            "False         499,250.9         285,807\n",
            "True           99,939.5          48,945\n",
            "\n",
            "En total, los clientes que desertan no usan más minutos en llamadas day.\n",
            "\n",
            "En total, los clientes que desertan no realizan más llamadas day.\n",
            "\n",
            "Análisis de llamadas eve:\n",
            "      total eve minutes total eve calls\n",
            "                    sum             sum\n",
            "churn                                  \n",
            "False         567,273.4         285,110\n",
            "True          102,594.1          48,571\n",
            "\n",
            "En total, los clientes que desertan no usan más minutos en llamadas eve.\n",
            "\n",
            "En total, los clientes que desertan no realizan más llamadas eve.\n",
            "\n",
            "Análisis de llamadas night:\n",
            "      total night minutes total night calls\n",
            "                      sum               sum\n",
            "churn                                      \n",
            "False           570,379.6           285,166\n",
            "True             99,126.9            48,493\n",
            "\n",
            "En total, los clientes que desertan no usan más minutos en llamadas night.\n",
            "\n",
            "En total, los clientes que desertan no realizan más llamadas night.\n",
            "\n",
            "Análisis de llamadas intl:\n",
            "      total intl minutes total intl calls\n",
            "                     sum              sum\n",
            "churn                                    \n",
            "False           28,952.8           12,919\n",
            "True             5,168.1            2,011\n",
            "\n",
            "En total, los clientes que desertan no usan más minutos en llamadas intl.\n",
            "\n",
            "En total, los clientes que desertan no realizan más llamadas intl.\n",
            "\n",
            "Análisis global de llamadas:\n",
            "      total_minutes total_calls\n",
            "                sum         sum\n",
            "churn                          \n",
            "False   1,665,856.7     869,002\n",
            "True      306,828.6     148,020\n",
            "\n",
            "En total, los clientes que desertan no usan más minutos en total.\n",
            "\n",
            "En total, los clientes que desertan no realizan más llamadas en total.\n"
          ]
        }
      ]
    },
    {
      "cell_type": "markdown",
      "source": [
        "**Impacto de las Llamadas al Servicio al Cliente en la Deserción**\n",
        "\n",
        "Calcula el número promedio de llamadas al servicio al cliente (customer service calls) entre clientes que desertaron y los que no.\n",
        "\n",
        "Divide los clientes en dos grupos:\n",
        "\n",
        "- Grupo 1: Clientes que llamaron más de 3 veces al servicio al cliente.\n",
        "- Grupo 2: Clientes que llamaron 3 veces o menos.\n",
        "Compara la tasa de churn entre ambos grupos."
      ],
      "metadata": {
        "id": "aKl9LnZgGsDT"
      }
    },
    {
      "cell_type": "code",
      "source": [
        "# Solución propuesta\n",
        "# Calcular el número promedio de llamadas al servicio al cliente\n",
        "print(\"\\nPromedio de llamadas al servicio al cliente:\")\n",
        "print(df.groupby('churn')['customer service calls'].mean())\n",
        "\n",
        "# Dividir a los clientes en grupos según la cantidad de llamadas\n",
        "df['grupo_llamadas'] = pd.cut(df['customer service calls'], bins=[-1, 3, float('inf')], labels=['Grupo 1 (3 o menos)', 'Grupo 2 (Más de 3)'])\n",
        "\n",
        "# Calcular la tasa de churn en cada grupo (CORRECCIÓN: observed=True)\n",
        "tasa_churn_por_grupo = df.groupby('grupo_llamadas', observed=True)['churn'].mean() * 100\n",
        "print(\"\\nTasa de churn por grupo de llamadas:\")\n",
        "print(tasa_churn_por_grupo)\n",
        "\n",
        "# Comparar la tasa de churn entre los grupos\n",
        "print(\"\\nComparación de la tasa de churn:\")\n",
        "if tasa_churn_por_grupo['Grupo 2 (Más de 3)'] > tasa_churn_por_grupo['Grupo 1 (3 o menos)']:\n",
        "    print(\"Los clientes en el Grupo 2 (Más de 3 llamadas) tienen una mayor tasa de churn.\")\n",
        "else:\n",
        "    print(\"Los clientes en el Grupo 1 (3 o menos llamadas) tienen una mayor tasa de churn.\")"
      ],
      "metadata": {
        "id": "ac9qDXgrGz-M",
        "colab": {
          "base_uri": "https://localhost:8080/"
        },
        "outputId": "226b816c-aea6-4f41-ce8e-d14b01a4c04a"
      },
      "execution_count": 100,
      "outputs": [
        {
          "output_type": "stream",
          "name": "stdout",
          "text": [
            "\n",
            "Promedio de llamadas al servicio al cliente:\n",
            "churn\n",
            "False    1.449825\n",
            "True     2.229814\n",
            "Name: customer service calls, dtype: float64\n",
            "\n",
            "Tasa de churn por grupo de llamadas:\n",
            "grupo_llamadas\n",
            "Grupo 1 (3 o menos)    11.252446\n",
            "Grupo 2 (Más de 3)     51.685393\n",
            "Name: churn, dtype: float64\n",
            "\n",
            "Comparación de la tasa de churn:\n",
            "Los clientes en el Grupo 2 (Más de 3 llamadas) tienen una mayor tasa de churn.\n"
          ]
        }
      ]
    },
    {
      "cell_type": "markdown",
      "source": [
        "**Análisis del Costo de las Llamadas y Churn**\n",
        "\n",
        "Compara el costo total de llamadas diurnas (total day charge) entre clientes con y sin churn.\n",
        "\n",
        "Compara el costo total de llamadas nocturnas (total night charge).\n",
        "\n",
        "¿Los clientes con mayor gasto en llamadas internacionales (total intl charge) tienen más probabilidades de desertar?"
      ],
      "metadata": {
        "id": "U7oTziiyG0Wb"
      }
    },
    {
      "cell_type": "code",
      "source": [
        "# Solución propuesta\n",
        "\n",
        "import numpy as np\n",
        "\n",
        "# Función para analizar un tipo de llamada (costo)\n",
        "def analizar_costo_llamadas(df, tipo_llamada):\n",
        "    costo_col = f'total {tipo_llamada} charge'\n",
        "\n",
        "    print(f\"\\nAnálisis del costo de llamadas {tipo_llamada}:\")\n",
        "    resultados = df.groupby('churn').agg({costo_col: ['mean', 'median', 'sum']})\n",
        "\n",
        "    # Formatear como moneda\n",
        "    for col in resultados.columns:\n",
        "        resultados[col] = resultados[col].apply(lambda x: \"${:,.2f}\".format(x))\n",
        "\n",
        "    print(resultados)\n",
        "\n",
        "    # Comparación del costo total (con formato)\n",
        "    costo_churn = df[df['churn'] == 1][costo_col].sum()\n",
        "    costo_no_churn = df[df['churn'] == 0][costo_col].sum()\n",
        "\n",
        "    print(f\"Costo total llamadas {tipo_llamada} (desercion): ${costo_churn:,.2f}\")\n",
        "    print(f\"Costo total llamadas {tipo_llamada} (no desercion): ${costo_no_churn:,.2f}\")\n",
        "\n",
        "    if costo_churn > costo_no_churn:\n",
        "        print(f\"\\nEn total, los clientes que desertan tienen un mayor costo de llamadas {tipo_llamada}.\")\n",
        "    else:\n",
        "        print(f\"\\nEn total, los clientes que desertan no tienen un mayor costo de llamadas {tipo_llamada}.\")\n",
        "\n",
        "# Análisis del costo de llamadas diurnas\n",
        "analizar_costo_llamadas(df, 'day')\n",
        "\n",
        "# Análisis del costo de llamadas nocturnas\n",
        "analizar_costo_llamadas(df, 'night')\n",
        "\n",
        "# Análisis del costo de llamadas internacionales\n",
        "analizar_costo_llamadas(df, 'intl')\n",
        "\n",
        "# Análisis de la relación entre el gasto en llamadas internacionales y la deserción\n",
        "print(\"\\nAnálisis de la relación entre el gasto en llamadas internacionales y la deserción:\")\n",
        "\n",
        "# Dividir a los clientes en grupos según el gasto en llamadas internacionales\n",
        "# Asegurarse de que los límites incluyan todos los valores posibles\n",
        "min_gasto = df['total intl charge'].min()\n",
        "max_gasto = df['total intl charge'].max()\n",
        "\n",
        "bins = np.linspace(min_gasto, max_gasto, 4)  # 4 porque queremos 3 intervalos (Bajo, Medio, Alto)\n",
        "df['grupo_gasto_internacional'] = pd.cut(df['total intl charge'], bins=bins, labels=['Bajo', 'Medio', 'Alto'],\n",
        "                                         include_lowest=True)\n",
        "\n",
        "# Calcular la tasa de churn en cada grupo\n",
        "tasa_churn_por_gasto = df.groupby('grupo_gasto_internacional', observed=True)['churn'].mean() * 100\n",
        "\n",
        "# Formatear como porcentaje\n",
        "tasa_churn_por_gasto = tasa_churn_por_gasto.apply(lambda x: \"{:.2f}%\".format(x))\n",
        "\n",
        "print(\"\\nTasa de churn por grupo de gasto internacional:\")\n",
        "print(tasa_churn_por_gasto)\n",
        "\n",
        "# Comparar la tasa de churn entre los grupos\n",
        "# Manejar el caso de que no haya grupo \"Alto\"\n",
        "if 'Alto' in tasa_churn_por_gasto and 'Medio' in tasa_churn_por_gasto and 'Bajo' in tasa_churn_por_gasto:\n",
        "    if tasa_churn_por_gasto['Alto'] > tasa_churn_por_gasto['Medio'] and tasa_churn_por_gasto['Medio'] > tasa_churn_por_gasto['Bajo']:\n",
        "        print(\"Los clientes con mayor gasto en llamadas internacionales tienen más probabilidades de desertar.\")\n",
        "    else:\n",
        "        print(\"No hay una relación clara entre el gasto en llamadas internacionales y la deserción.\")\n",
        "else:\n",
        "    print(\"No hay suficientes grupos para determinar una relación clara.\")"
      ],
      "metadata": {
        "id": "YWGmcLdoIYwx",
        "colab": {
          "base_uri": "https://localhost:8080/"
        },
        "outputId": "0e7f4f17-01e2-4bd7-f1f5-c3bd08c854d6"
      },
      "execution_count": 102,
      "outputs": [
        {
          "output_type": "stream",
          "name": "stdout",
          "text": [
            "\n",
            "Análisis del costo de llamadas day:\n",
            "      total day charge                    \n",
            "                  mean  median         sum\n",
            "churn                                     \n",
            "False           $29.78  $30.12  $84,874.20\n",
            "True            $35.18  $36.99  $16,989.97\n",
            "Costo total llamadas day (desercion): $16,989.97\n",
            "Costo total llamadas day (no desercion): $84,874.20\n",
            "\n",
            "En total, los clientes que desertan no tienen un mayor costo de llamadas day.\n",
            "\n",
            "Análisis del costo de llamadas night:\n",
            "      total night charge                   \n",
            "                    mean median         sum\n",
            "churn                                      \n",
            "False              $9.01  $9.01  $25,667.31\n",
            "True               $9.24  $9.22   $4,460.76\n",
            "Costo total llamadas night (desercion): $4,460.76\n",
            "Costo total llamadas night (no desercion): $25,667.31\n",
            "\n",
            "En total, los clientes que desertan no tienen un mayor costo de llamadas night.\n",
            "\n",
            "Análisis del costo de llamadas intl:\n",
            "      total intl charge                  \n",
            "                   mean median        sum\n",
            "churn                                    \n",
            "False             $2.74  $2.75  $7,818.70\n",
            "True              $2.89  $2.86  $1,395.65\n",
            "Costo total llamadas intl (desercion): $1,395.65\n",
            "Costo total llamadas intl (no desercion): $7,818.70\n",
            "\n",
            "En total, los clientes que desertan no tienen un mayor costo de llamadas intl.\n",
            "\n",
            "Análisis de la relación entre el gasto en llamadas internacionales y la deserción:\n",
            "\n",
            "Tasa de churn por grupo de gasto internacional:\n",
            "grupo_gasto_internacional\n",
            "Bajo     11.52%\n",
            "Medio    13.43%\n",
            "Alto     23.99%\n",
            "Name: churn, dtype: object\n",
            "Los clientes con mayor gasto en llamadas internacionales tienen más probabilidades de desertar.\n"
          ]
        }
      ]
    }
  ]
}