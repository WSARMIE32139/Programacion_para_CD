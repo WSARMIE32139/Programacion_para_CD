{
  "nbformat": 4,
  "nbformat_minor": 0,
  "metadata": {
    "colab": {
      "provenance": [],
      "include_colab_link": true
    },
    "kernelspec": {
      "name": "python3",
      "display_name": "Python 3"
    },
    "language_info": {
      "name": "python"
    }
  },
  "cells": [
    {
      "cell_type": "markdown",
      "metadata": {
        "id": "view-in-github",
        "colab_type": "text"
      },
      "source": [
        "<a href=\"https://colab.research.google.com/github/WSARMIE32139/Programacion_para_CD/blob/main/analisis-churn-telecom/Guia_2.ipynb\" target=\"_parent\"><img src=\"https://colab.research.google.com/assets/colab-badge.svg\" alt=\"Open In Colab\"/></a>"
      ]
    },
    {
      "cell_type": "markdown",
      "source": [
        "# **Guía 2**\n",
        "\n",
        "Objetivo: aplicar los conceptos de Pandas en la manipulación y análisis de datos estructurados. Se trabajará con Series y DataFrames, aplicando técnicas de acceso, selección, filtrado y agregación de datos.\n",
        "\n",
        "### **Caso de Negocio: Análisis de Deserción de Clientes en una Empresa de Telecomunicaciones**\n",
        "\n",
        "**Contexto**\n",
        "\n",
        "En la industria de las telecomunicaciones, la retención de clientes es un factor crítico para la sostenibilidad del negocio. La competencia es feroz y adquirir nuevos clientes suele ser más costoso que mantener a los actuales. En este análisis, exploraremos un conjunto de datos que contiene información detallada sobre clientes que han abandonado el servicio (churn) y aquellos que permanecen activos.\n",
        "\n",
        "Nuestro objetivo es identificar los factores clave que influyen en la deserción, comprender patrones de comportamiento y generar estrategias efectivas para reducir la tasa de abandono.\n",
        "\n",
        "La empresa ha experimentado un aumento en la tasa de deserción de clientes, lo que ha provocado:\n",
        "- Pérdida de ingresos recurrentes.\n",
        "- Incremento en los costos de adquisición de nuevos clientes.\n",
        "- Menor estabilidad en la base de clientes a largo plazo.\n",
        "\n",
        "Para abordar esta problemática, es crucial identificar las razones detrás de la deserción y desarrollar estrategias para mejorar la retención de clientes.\n",
        "\n"
      ],
      "metadata": {
        "id": "sVxeQki8vRXz"
      }
    },
    {
      "cell_type": "markdown",
      "source": [
        "**Entrega del Trabajo**\n",
        "\n",
        "Los estudiantes deben trabajar en grupos de entre 2 y 4 personas. Cada grupo deberá subir su trabajo a un repositorio de GitHub, asegurándose de que el código y los archivos necesarios estén bien organizados y documentados. Posteriormente, deberán enviar el enlace del repositorio en la plataforma Canvas para su evaluación.\n",
        "\n",
        "Instrucciones para la entrega:\n",
        "\n",
        "Crear un repositorio en GitHub con un nombre descriptivo para el proyecto.\n",
        "\n",
        "Subir el código en Jupyter Notebook (.ipynb) o en formato Python (.py).\n",
        "\n",
        "Incluir un archivo README.md con una breve descripción del trabajo y las instrucciones de ejecución.\n",
        "\n",
        "Compartir el enlace del repositorio en Canvas dentro del plazo establecido.\n",
        "\n"
      ],
      "metadata": {
        "id": "TBsud25XSR0w"
      }
    },
    {
      "cell_type": "markdown",
      "source": [
        "**Descripción de las variables del dataset telecom_churn**\n",
        "\n",
        "El dataset telecom_churn contiene información detallada sobre clientes de una empresa de telecomunicaciones, incluyendo datos generales, planes contratados, uso del servicio telefónico y llamadas al servicio al cliente. Su propósito principal es analizar patrones de deserción de clientes, identificados a través de la variable churn, que indica si un cliente ha abandonado la empresa (1) o sigue siendo cliente (0).\n",
        "\n",
        "Dentro del dataset, encontramos información general como el estado (state) donde reside el cliente, el código de área (area code), y el número de teléfono (phone number), aunque esta última variable no aporta información útil para el análisis, ya que es un identificador único.\n",
        "\n",
        "Además, el dataset registra el tiempo que un cliente ha estado en la empresa a través de la variable account length, lo que puede ayudar a analizar si la duración del contrato influye en la deserción. También se incluyen detalles sobre los planes contratados, como si el cliente tiene un plan internacional (international plan), que le permite realizar llamadas internacionales, o un buzón de voz (voice mail plan), que le permite recibir mensajes de voz.\n",
        "\n",
        "En cuanto al uso del servicio, se registran datos detallados sobre el tiempo en llamadas y los costos asociados. Se divide en tres períodos del día: diurno (total day minutes, total day calls, total day charge), vespertino (total eve minutes, total eve calls, total eve charge) y nocturno (total night minutes, total night calls, total night charge), lo que permite evaluar si hay patrones de consumo que influyen en la deserción. También se incluye información sobre el uso del servicio internacional, con variables como total intl minutes (minutos en llamadas internacionales), total intl calls (cantidad de llamadas internacionales) y total intl charge (costos por llamadas internacionales).\n",
        "\n",
        "Otro aspecto clave del dataset es el número de llamadas al servicio al cliente (customer service calls), ya que una mayor cantidad de llamadas puede indicar insatisfacción y estar relacionada con la decisión del cliente de abandonar la empresa.\n",
        "\n",
        "Finalmente, la variable más importante del análisis es churn, que indica si un cliente ha desertado de la empresa. A partir de esta variable, podemos analizar qué factores influyen en la deserción y encontrar patrones en los clientes que tienen mayor probabilidad de abandonar el servicio.\n"
      ],
      "metadata": {
        "id": "R1eyqBGSScta"
      }
    },
    {
      "cell_type": "markdown",
      "source": [
        "**Exploración y Limpieza de Datos**\n",
        "\n",
        "Cargar y explorar el dataset\n",
        "\n",
        "Importa Pandas y carga el dataset telecom_churn.csv en un DataFrame.\n",
        "\n",
        "Muestra las primeras 5 filas del DataFrame.\n",
        "\n",
        "Verifica cuántas filas y columnas tiene el dataset.\n",
        "\n",
        "Muestra información general del dataset, incluyendo los tipos de datos.\n",
        "\n",
        "Identifica si hay valores nulos en alguna columna."
      ],
      "metadata": {
        "id": "-gqRGJ8yFs5Y"
      }
    },
    {
      "cell_type": "code",
      "source": [
        "#!pip install pandas numpy"
      ],
      "metadata": {
        "id": "93sx7XmlDvUK"
      },
      "execution_count": null,
      "outputs": []
    },
    {
      "cell_type": "code",
      "execution_count": null,
      "metadata": {
        "id": "wuoyvrE0vQ09"
      },
      "outputs": [],
      "source": [
        "# Solución propuesta\n",
        "# 1. Importa Pandas y carga el dataset telecom_churn.csv en un DataFrame.\n",
        "import pandas as pd\n",
        "\n",
        "df = pd.read_csv('/content/telecom_churn.csv')\n",
        "\n",
        "print(df)"
      ]
    },
    {
      "cell_type": "code",
      "source": [
        "# 2. Muestra las primeras 5 filas del DataFrame.\n",
        "# Cargar el dataset\n",
        "df = pd.read_csv('telecom_churn.csv')\n",
        "\n",
        "# Ajustar el ancho máximo de las columnas para tener una mejor vista del df\n",
        "pd.set_option('display.max_columns', None)  # Muestra todas las columnas\n",
        "pd.set_option('display.width',1000)       # Ajustar el ancho total de la pantalla\n",
        "\n",
        "# Mostramos las primeras 5 filas\n",
        "print(df.head())"
      ],
      "metadata": {
        "id": "yH30e802tCJv"
      },
      "execution_count": null,
      "outputs": []
    },
    {
      "cell_type": "code",
      "source": [
        "#3. Verifica cuántas filas y columnas tiene el dataset.\n",
        "print (\"Confirmación de Filas y Columnas\")\n",
        "print(f\"El dataset tiene {df.shape[0]} filas y {df.shape[1]} columnas.\")"
      ],
      "metadata": {
        "id": "FsKeJodQtFqH"
      },
      "execution_count": null,
      "outputs": []
    },
    {
      "cell_type": "code",
      "source": [
        "#4. Muestra información general del dataset, incluyendo los tipos de datos.\n",
        "print(df.info())"
      ],
      "metadata": {
        "id": "DsARJfy1tIh0"
      },
      "execution_count": null,
      "outputs": []
    },
    {
      "cell_type": "code",
      "source": [
        "#5. Identifica si hay valores nulos en alguna columna.\n",
        "print (\"se Identifican los valores nulos\")\n",
        "print(df.isnull().sum())"
      ],
      "metadata": {
        "id": "v7K0QKrktLif"
      },
      "execution_count": null,
      "outputs": []
    },
    {
      "cell_type": "code",
      "source": [
        "# Estadísticas descriptivas\n",
        "df.describe()"
      ],
      "metadata": {
        "id": "9LSCq38Wt5jA"
      },
      "execution_count": null,
      "outputs": []
    },
    {
      "cell_type": "code",
      "source": [
        "# Conteo de valores únicos\n",
        "print(df.nunique())"
      ],
      "metadata": {
        "id": "E0yzhqjww_uR"
      },
      "execution_count": null,
      "outputs": []
    },
    {
      "cell_type": "code",
      "source": [
        "# Distribución de valores\n",
        "print(df['churn'].value_counts())\n",
        "print(df['area code'].value_counts())\n",
        "print(df['international plan'].value_counts())\n",
        "print(df['voice mail plan'].value_counts())"
      ],
      "metadata": {
        "id": "BsH8bG0lxRnE"
      },
      "execution_count": null,
      "outputs": []
    },
    {
      "cell_type": "markdown",
      "source": [
        "**Análisis de Churn y Factores Relacionados**\n",
        "\n",
        "Calcula el porcentaje de clientes que han desertado (churn = 1).\n",
        "\n",
        "Identifica si los clientes con plan internacional (international plan) tienen mayor tasa de deserción.\n",
        "\n",
        "Identifica si los clientes con buzón de voz (voice mail plan) tienen menor tasa de deserción."
      ],
      "metadata": {
        "id": "PIGXq-ijFgb4"
      }
    },
    {
      "cell_type": "code",
      "source": [
        "# Solución propuesta\n",
        "# Calcular el porcentaje de churn\n",
        "porcentaje_churn = (df['churn'].sum() / len(df)) * 100 #suma los valores True de la columna sobre el total clientes\n",
        "\n",
        "print(f\"El porcentaje de clientes que han desertado es del {porcentaje_churn:.2f}%\")"
      ],
      "metadata": {
        "id": "3_TFqdwBwUD-"
      },
      "execution_count": null,
      "outputs": []
    },
    {
      "cell_type": "code",
      "source": [
        "# Análisis del plan internacional\n",
        "churn_con_plan_internacional = df[df['international plan'] == 'yes']['churn'].mean() * 100\n",
        "churn_sin_plan_internacional = df[df['international plan'] == 'no']['churn'].mean() * 100\n",
        "\n",
        "print(f\"Tasa de deserción con plan internacional: {churn_con_plan_internacional:.2f}%\")\n",
        "print(f\"Tasa de deserción sin plan internacional: {churn_sin_plan_internacional:.2f}%\")\n",
        "\n",
        "if churn_con_plan_internacional > churn_sin_plan_internacional:\n",
        "    print(\"Los clientes con plan internacional tienen una mayor tasa de deserción.\")\n",
        "else:\n",
        "    print(\"Los clientes con plan internacional no tienen una mayor tasa de deserción.\")\n",
        "\n",
        "# Análisis del buzón de voz\n",
        "churn_con_buzon_voz = df[df['voice mail plan'] == 'yes']['churn'].mean() * 100\n",
        "churn_sin_buzon_voz = df[df['voice mail plan'] == 'no']['churn'].mean() * 100\n",
        "\n",
        "print(f\"\\nTasa de deserción con buzón de voz: {churn_con_buzon_voz:.2f}%\")\n",
        "print(f\"Tasa de deserción sin buzón de voz: {churn_sin_buzon_voz:.2f}%\")\n",
        "\n",
        "if churn_con_buzon_voz < churn_sin_buzon_voz:\n",
        "    print(\"Los clientes con buzón de voz tienen una menor tasa de deserción.\")\n",
        "else:\n",
        "    print(\"Los clientes con buzón de voz no tienen una menor tasa de deserción.\")"
      ],
      "metadata": {
        "id": "pkFMe1cC36Sp"
      },
      "execution_count": null,
      "outputs": []
    },
    {
      "cell_type": "markdown",
      "source": [
        "**Análisis de la Duración del Servicio y Deserción**\n",
        "\n",
        "¿Cuál es la duración promedio de la cuenta (account length) entre clientes que desertaron y los que permanecen?\n",
        "\n",
        "¿Los clientes con cuentas más antiguas tienen más probabilidades de desertar?"
      ],
      "metadata": {
        "id": "yL8Y_juFFup7"
      }
    },
    {
      "cell_type": "code",
      "source": [
        "# Solución propuesta\n",
        "# Calcular la duración promedio para cada grupo (en meses)\n",
        "duracion_promedio_churn_meses = df[df['churn'] == 1]['account length'].mean()\n",
        "duracion_promedio_no_churn_meses = df[df['churn'] == 0]['account length'].mean()\n",
        "\n",
        "# Convertir a meses y días\n",
        "def convertir_a_meses_dias(meses):\n",
        "    dias = (meses * 30.44) % 30.44  # Usamos 30.44 días/mes (promedio) teniendo en cuenta el total de días por cada mes\n",
        "    meses_int = int(meses)\n",
        "    dias_int = int(dias)\n",
        "    return meses_int, dias_int\n",
        "\n",
        "duracion_churn_meses, duracion_churn_dias = convertir_a_meses_dias(duracion_promedio_churn_meses)\n",
        "duracion_no_churn_meses, duracion_no_churn_dias = convertir_a_meses_dias(duracion_promedio_no_churn_meses)\n",
        "\n",
        "print(f\"Duración promedio de cuenta (desertaron): {duracion_churn_meses} meses y {duracion_churn_dias} días\")\n",
        "print(f\"Duración promedio de cuenta (permanecen): {duracion_no_churn_meses} meses y {duracion_no_churn_dias} días\")"
      ],
      "metadata": {
        "id": "7ViU0n6lGFao"
      },
      "execution_count": null,
      "outputs": []
    },
    {
      "cell_type": "code",
      "source": [
        "# Creamos 3 grupos de antigüedad\n",
        "df['antiguedad_grupo'] = pd.cut(df['account length'], bins=[0, 50, 100, float('inf')], labels=['< 50', '50-100', '> 100'])\n",
        "\n",
        "# Calculos estadísticas por grupo\n",
        "resultados = df.groupby('antiguedad_grupo', observed=True).agg({\n",
        "    'churn': ['mean', 'sum', 'count']\n",
        "})\n",
        "\n",
        "# Renombrar columnas\n",
        "resultados.columns = ['tasa_desercion', 'cantidad_desercion', 'cantidad_clientes']\n",
        "\n",
        "# Calculos porcentaje de deserción\n",
        "resultados['tasa_desercion'] = resultados['tasa_desercion'] * 100\n",
        "\n",
        "# Encontrar el grupo con la mayor tasa de deserción\n",
        "grupo_max_desercion = resultados['tasa_desercion'].idxmax()  # Encuentra el grupo con la tasa de deserción más alta\n",
        "tasa_max_desercion = resultados['tasa_desercion'].max()      # Encuentra el valor de la tasa de deserción más alta\n",
        "\n",
        "# Imprimir resultados\n",
        "print(\"\\nResultados por grupo de antigüedad:\")\n",
        "print(resultados)\n",
        "\n",
        "print(f\"\\nEl grupo con la mayor tasa de deserción es: {grupo_max_desercion} ({tasa_max_desercion:.2f}%)\")\n",
        "\n",
        "# Respuesta a la pregunta\n",
        "if resultados.index.get_loc(grupo_max_desercion) > resultados.index.get_loc('< 50'):\n",
        "    print(\"\\nLos clientes con cuentas más antiguas tienen más probabilidades de desertar.\")\n",
        "else:\n",
        "    print(\"\\nLos clientes con cuentas más antiguas NO tienen más probabilidades de desertar.\")"
      ],
      "metadata": {
        "id": "eV9YMsROf2ZH"
      },
      "execution_count": null,
      "outputs": []
    },
    {
      "cell_type": "markdown",
      "source": [
        "**Relación entre Deserción y Uso del Servicio**\n",
        "\n",
        "Compara la cantidad de minutos usados en llamadas diurnas (total day minutes) entre clientes con y sin churn.\n",
        "\n",
        "Compara la cantidad de minutos usados en llamadas nocturnas (total night minutes).\n",
        "\n",
        "Compara el número total de llamadas (total day calls) entre clientes con y sin churn."
      ],
      "metadata": {
        "id": "vyaa82K0GF6B"
      }
    },
    {
      "cell_type": "code",
      "source": [
        "# Función para analizar un tipo de llamada\n",
        "def analizar_llamadas(df, tipo_llamada):\n",
        "    minutos_col = f'total {tipo_llamada} minutes'\n",
        "    llamadas_col = f'total {tipo_llamada} calls'\n",
        "\n",
        "    print(f\"\\nAnálisis de llamadas {tipo_llamada}:\")\n",
        "    resultados = df.groupby('churn').agg({minutos_col: ['sum'], llamadas_col: ['sum']})\n",
        "\n",
        "    # Formatear números con separadores de miles\n",
        "    for col in resultados.columns:\n",
        "        resultados[col] = resultados[col].apply(lambda x: \"{:,}\".format(x))\n",
        "\n",
        "    print(resultados)\n",
        "\n",
        "    # Comparación de la suma de minutos\n",
        "    suma_minutos_churn = df[df['churn'] == 1][minutos_col].sum()\n",
        "    suma_minutos_no_churn = df[df['churn'] == 0][minutos_col].sum()\n",
        "\n",
        "    if suma_minutos_churn > suma_minutos_no_churn:\n",
        "        print(f\"\\nEn total, los clientes que desertan usan más minutos en llamadas {tipo_llamada}.\")\n",
        "    else:\n",
        "        print(f\"\\nEn total, los clientes que desertan no usan más minutos en llamadas {tipo_llamada}.\")\n",
        "\n",
        "    # Comparación de la suma de llamadas\n",
        "    suma_llamadas_churn = df[df['churn'] == 1][llamadas_col].sum()\n",
        "    suma_llamadas_no_churn = df[df['churn'] == 0][llamadas_col].sum()\n",
        "\n",
        "    if suma_llamadas_churn > suma_llamadas_no_churn:\n",
        "        print(f\"\\nEn total, los clientes que desertan realizan más llamadas {tipo_llamada}.\")\n",
        "    else:\n",
        "        print(f\"\\nEn total, los clientes que desertan no realizan más llamadas {tipo_llamada}.\")\n",
        "\n",
        "# Análisis por tipo de llamada\n",
        "tipos_llamada = ['day', 'eve', 'night', 'intl']\n",
        "for tipo in tipos_llamada:\n",
        "    analizar_llamadas(df, tipo)\n",
        "\n",
        "# Análisis global\n",
        "print(\"\\nAnálisis global de llamadas:\")\n",
        "df['total_minutes'] = df['total day minutes'] + df['total eve minutes'] + df['total night minutes'] + df['total intl minutes']\n",
        "df['total_calls'] = df['total day calls'] + df['total eve calls'] + df['total night calls'] + df['total intl calls']\n",
        "\n",
        "resultados_globales = df.groupby('churn').agg({'total_minutes': ['sum'], 'total_calls': ['sum']})\n",
        "\n",
        "# Formatear números con separadores de miles\n",
        "for col in resultados_globales.columns:\n",
        "    resultados_globales[col] = resultados_globales[col].apply(lambda x: \"{:,}\".format(x))\n",
        "\n",
        "print(resultados_globales)\n",
        "\n",
        "# Comparación global de la suma de minutos\n",
        "suma_minutos_churn = df[df['churn'] == 1]['total_minutes'].sum()\n",
        "suma_minutos_no_churn = df[df['churn'] == 0]['total_minutes'].sum()\n",
        "\n",
        "if suma_minutos_churn > suma_minutos_no_churn:\n",
        "    print(\"\\nEn total, los clientes que desertan usan más minutos en total.\")\n",
        "else:\n",
        "    print(\"\\nEn total, los clientes que desertan no usan más minutos en total.\")\n",
        "\n",
        "# Comparación global de la suma de llamadas\n",
        "suma_llamadas_churn = df[df['churn'] == 1]['total_calls'].sum()\n",
        "suma_llamadas_no_churn = df[df['churn'] == 0]['total_calls'].sum()\n",
        "\n",
        "if suma_llamadas_churn > suma_llamadas_no_churn:\n",
        "    print(\"\\nEn total, los clientes que desertan realizan más llamadas en total.\")\n",
        "else:\n",
        "    print(\"\\nEn total, los clientes que desertan no realizan más llamadas en total.\")"
      ],
      "metadata": {
        "id": "YCCx9O2OqoPW"
      },
      "execution_count": null,
      "outputs": []
    },
    {
      "cell_type": "markdown",
      "source": [
        "**Impacto de las Llamadas al Servicio al Cliente en la Deserción**\n",
        "\n",
        "Calcula el número promedio de llamadas al servicio al cliente (customer service calls) entre clientes que desertaron y los que no.\n",
        "\n",
        "Divide los clientes en dos grupos:\n",
        "\n",
        "- Grupo 1: Clientes que llamaron más de 3 veces al servicio al cliente.\n",
        "- Grupo 2: Clientes que llamaron 3 veces o menos.\n",
        "Compara la tasa de churn entre ambos grupos."
      ],
      "metadata": {
        "id": "aKl9LnZgGsDT"
      }
    },
    {
      "cell_type": "code",
      "source": [
        "# Solución propuesta\n",
        "# Se calcula el número promedio de llamadas al servicio al cliente\n",
        "print(\"\\nPromedio de llamadas al servicio al cliente:\")\n",
        "print(df.groupby('churn')['customer service calls'].mean())\n",
        "\n",
        "# Dividir a los clientes en grupos según la cantidad de llamadas\n",
        "df['grupo_llamadas'] = pd.cut(df['customer service calls'], bins=[-1, 3, float('inf')], labels=['Grupo 1 (3 o menos)', 'Grupo 2 (Más de 3)'])\n",
        "\n",
        "# Se calcular la tasa de churn en cada grupo\n",
        "tasa_churn_por_grupo = df.groupby('grupo_llamadas', observed=True)['churn'].mean() * 100\n",
        "print(\"\\nTasa de churn por grupo de llamadas:\")\n",
        "print(tasa_churn_por_grupo)\n",
        "\n",
        "# Comparar la tasa de churn entre los grupos\n",
        "print(\"\\nComparación de la tasa de churn:\")\n",
        "if tasa_churn_por_grupo['Grupo 2 (Más de 3)'] > tasa_churn_por_grupo['Grupo 1 (3 o menos)']:\n",
        "    print(\"Los clientes en el Grupo 2 (Más de 3 llamadas) tienen una mayor tasa de churn.\")\n",
        "else:\n",
        "    print(\"Los clientes en el Grupo 1 (3 o menos llamadas) tienen una mayor tasa de churn.\")"
      ],
      "metadata": {
        "id": "ac9qDXgrGz-M"
      },
      "execution_count": null,
      "outputs": []
    },
    {
      "cell_type": "markdown",
      "source": [
        "**Análisis del Costo de las Llamadas y Churn**\n",
        "\n",
        "Compara el costo total de llamadas diurnas (total day charge) entre clientes con y sin churn.\n",
        "\n",
        "Compara el costo total de llamadas nocturnas (total night charge).\n",
        "\n",
        "¿Los clientes con mayor gasto en llamadas internacionales (total intl charge) tienen más probabilidades de desertar?"
      ],
      "metadata": {
        "id": "U7oTziiyG0Wb"
      }
    },
    {
      "cell_type": "code",
      "source": [
        "# Solución propuesta\n",
        "import numpy as np\n",
        "\n",
        "# Función para analizar un tipo de llamada (costo)\n",
        "def analizar_costo_llamadas(df, tipo_llamada):\n",
        "    costo_col = f'total {tipo_llamada} charge'\n",
        "\n",
        "    print(f\"\\nAnálisis del costo de llamadas {tipo_llamada}:\")\n",
        "    resultados = df.groupby('churn').agg({costo_col: ['mean', 'median', 'sum']})\n",
        "\n",
        "    # Formatear como moneda\n",
        "    for col in resultados.columns:\n",
        "        resultados[col] = resultados[col].apply(lambda x: \"${:,.2f}\".format(x))\n",
        "\n",
        "    print(resultados)\n",
        "\n",
        "    # Comparación del costo total (con formato)\n",
        "    costo_churn = df[df['churn'] == 1][costo_col].sum()\n",
        "    costo_no_churn = df[df['churn'] == 0][costo_col].sum()\n",
        "\n",
        "    print(f\"Costo total llamadas {tipo_llamada} (desercion): ${costo_churn:,.2f}\")\n",
        "    print(f\"Costo total llamadas {tipo_llamada} (no desercion): ${costo_no_churn:,.2f}\")\n",
        "\n",
        "    if costo_churn > costo_no_churn:\n",
        "        print(f\"\\nEn total, los clientes que desertan tienen un mayor costo de llamadas {tipo_llamada}.\")\n",
        "    else:\n",
        "        print(f\"\\nEn total, los clientes que desertan no tienen un mayor costo de llamadas {tipo_llamada}.\")\n",
        "\n",
        "# Análisis del costo de llamadas diurnas\n",
        "analizar_costo_llamadas(df, 'day')\n",
        "\n",
        "# Análisis del costo de llamadas nocturnas\n",
        "analizar_costo_llamadas(df, 'night')\n",
        "\n",
        "# Análisis del costo de llamadas internacionales\n",
        "analizar_costo_llamadas(df, 'intl')\n",
        "\n",
        "# Análisis de la relación entre el gasto en llamadas internacionales y la deserción\n",
        "print(\"\\nAnálisis de la relación entre el gasto en llamadas internacionales y la deserción:\")\n",
        "\n",
        "# Dividir a los clientes en grupos según el gasto en llamadas internacionales\n",
        "min_gasto = df['total intl charge'].min()\n",
        "max_gasto = df['total intl charge'].max()\n",
        "\n",
        "bins = np.linspace(min_gasto, max_gasto, 4)  # 4 porque queremos 3 intervalos (Bajo, Medio, Alto) **** Indica el número de puntos (incluyendo los extremos) que se van a generar. En este caso, se generan 4 puntos, lo que resulta en 3 intervalos.\n",
        "df['grupo_gasto_internacional'] = pd.cut(df['total intl charge'], bins=bins, labels=['Bajo', 'Medio', 'Alto'],\n",
        "                                         include_lowest=True)\n",
        "\n",
        "# Calcular la tasa de churn en cada grupo\n",
        "tasa_churn_por_gasto = df.groupby('grupo_gasto_internacional', observed=True)['churn'].mean() * 100\n",
        "\n",
        "# Formatear como porcentaje\n",
        "tasa_churn_por_gasto = tasa_churn_por_gasto.apply(lambda x: \"{:.2f}%\".format(x))\n",
        "\n",
        "print(\"\\nTasa de churn por grupo de gasto internacional:\")\n",
        "print(tasa_churn_por_gasto)\n",
        "\n",
        "# Comparar la tasa de churn entre los grupos\n",
        "# Manejar el caso de que no haya grupo \"Alto\"\n",
        "if 'Alto' in tasa_churn_por_gasto and 'Medio' in tasa_churn_por_gasto and 'Bajo' in tasa_churn_por_gasto:  # Verifica si existen todos los grupos\n",
        "    if tasa_churn_por_gasto['Alto'] > tasa_churn_por_gasto['Medio'] and tasa_churn_por_gasto['Medio'] > tasa_churn_por_gasto['Bajo']:  # Verifica si la tasa aumenta con el gasto\n",
        "        print(\"Los clientes con mayor gasto en llamadas internacionales tienen más probabilidades de desertar.\")  # Imprime mensaje si la relación es clara\n",
        "    else:\n",
        "        print(\"No hay una relación clara entre el gasto en llamadas internacionales y la deserción.\")  # Imprime mensaje si no hay relación clara\n",
        "else:\n",
        "    print(\"No hay suficientes grupos para determinar una relación clara.\")  # Imprime mensaje si faltan grupos"
      ],
      "metadata": {
        "id": "YWGmcLdoIYwx"
      },
      "execution_count": null,
      "outputs": []
    }
  ]
}